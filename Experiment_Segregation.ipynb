{
 "cells": [
  {
   "cell_type": "code",
   "execution_count": 5,
   "id": "initial_id",
   "metadata": {
    "ExecuteTime": {
     "end_time": "2024-07-02T11:47:54.478473Z",
     "start_time": "2024-07-02T11:47:53.581742Z"
    }
   },
   "outputs": [],
   "source": [
    "import matplotlib.pyplot as plt\n",
    "import pandas as pd\n",
    "from src.SugarScape import SugarScape\n",
    "from mesa import batch_run\n",
    "import numpy as np\n",
    "from tqdm import tqdm\n",
    "\n",
    "# Setup all folders\n",
    "import os\n",
    "\n",
    "folder = 'Segregation'\n",
    "# Create Segregation Folder\n",
    "if not os.path.exists(folder):\n",
    "    os.mkdir(folder)\n",
    "\n",
    "# Check if folder exists for saving base results\n",
    "folder = f'{folder}/Base'\n",
    "if not os.path.exists(folder):\n",
    "    os.mkdir(folder)"
   ]
  },
  {
   "cell_type": "markdown",
   "id": "c9600deb3286d8aa",
   "metadata": {},
   "source": [
    "# Base Simulation"
   ]
  },
  {
   "cell_type": "code",
   "execution_count": 70,
   "id": "971a66ea507004a4",
   "metadata": {
    "ExecuteTime": {
     "end_time": "2024-07-02T11:31:28.918080Z",
     "start_time": "2024-07-02T11:31:28.910520Z"
    }
   },
   "outputs": [],
   "source": [
    "scenarios = [\n",
    "    {'vision_mean': 4.264199728146195, 'metabolism_mean': 6.751366691663861, 'max_age_mean': 96.55008263885976,\n",
    "     'repopulate_factor': 7.485186895355582, 'cell_regeneration': 1.6743798777461052},   # Worst case\n",
    "    \n",
    "    {'vision_mean': 2.571960593573749, 'metabolism_mean': 7.285224918276071, 'max_age_mean': 93.18476642481984,\n",
    "     'repopulate_factor': 5.733334645628929, 'cell_regeneration': 2.95167014375329},     # Best case\n",
    "    \n",
    "    {'vision_mean': 1.2129357354715466, 'metabolism_mean': 3.5813456028699875, 'max_age_mean': 96.730439318344,\n",
    "     'repopulate_factor': 12.009924734011292, 'cell_regeneration': 1.5217601098120213},  # Average case\n",
    "    \n",
    "    {'vision_mean': 3.5, 'metabolism_mean': 6, 'max_age_mean': 85,\n",
    "     'repopulate_factor': 10, 'cell_regeneration': 3},                                   # Balanced case\n",
    "    \n",
    "    {'vision_mean': 1.2129357354715466, 'metabolism_mean': 3.5813456028699875, 'max_age_mean': 100,\n",
    "     'repopulate_factor': 5, 'cell_regeneration': 1.5217601098120213},                    # Slow evolving\n",
    "    \n",
    "    {'vision_mean': 5.089661035686731, 'metabolism_mean': 5.488567331805825, 'max_age_mean': 70,\n",
    "     'repopulate_factor': 15, 'cell_regeneration': 3.368525765836239},                    # Fast evolving\n",
    "]\n",
    "\n",
    "results = []\n",
    "replicates = 30\n",
    "max_steps = 10"
   ]
  },
  {
   "cell_type": "code",
   "execution_count": 71,
   "id": "c81adb885a09a0eb",
   "metadata": {
    "ExecuteTime": {
     "end_time": "2024-07-02T11:31:55.784844Z",
     "start_time": "2024-07-02T11:31:29.440015Z"
    }
   },
   "outputs": [
    {
     "data": {
      "application/vnd.jupyter.widget-view+json": {
       "model_id": "f6a31bb0ba494af7ab8a546f8bf54ace",
       "version_major": 2,
       "version_minor": 0
      },
      "text/plain": [
       "  0%|          | 0/30 [00:00<?, ?it/s]"
      ]
     },
     "metadata": {},
     "output_type": "display_data"
    },
    {
     "data": {
      "application/vnd.jupyter.widget-view+json": {
       "model_id": "0098b117bab74cbf88d8e940982ab4de",
       "version_major": 2,
       "version_minor": 0
      },
      "text/plain": [
       "  0%|          | 0/30 [00:00<?, ?it/s]"
      ]
     },
     "metadata": {},
     "output_type": "display_data"
    },
    {
     "data": {
      "application/vnd.jupyter.widget-view+json": {
       "model_id": "18d42dabee0047d39990182e8b69195e",
       "version_major": 2,
       "version_minor": 0
      },
      "text/plain": [
       "  0%|          | 0/30 [00:00<?, ?it/s]"
      ]
     },
     "metadata": {},
     "output_type": "display_data"
    },
    {
     "data": {
      "application/vnd.jupyter.widget-view+json": {
       "model_id": "6da04b3c21204eab93655d82090d2fd0",
       "version_major": 2,
       "version_minor": 0
      },
      "text/plain": [
       "  0%|          | 0/30 [00:00<?, ?it/s]"
      ]
     },
     "metadata": {},
     "output_type": "display_data"
    },
    {
     "data": {
      "application/vnd.jupyter.widget-view+json": {
       "model_id": "e113a21432fb4de39c6c92051a6b755a",
       "version_major": 2,
       "version_minor": 0
      },
      "text/plain": [
       "  0%|          | 0/30 [00:00<?, ?it/s]"
      ]
     },
     "metadata": {},
     "output_type": "display_data"
    },
    {
     "data": {
      "application/vnd.jupyter.widget-view+json": {
       "model_id": "e9023c8378da443f8b1c5e89bc988dab",
       "version_major": 2,
       "version_minor": 0
      },
      "text/plain": [
       "  0%|          | 0/30 [00:00<?, ?it/s]"
      ]
     },
     "metadata": {},
     "output_type": "display_data"
    }
   ],
   "source": [
    "for scenario in scenarios:\n",
    "    scenario['map_scheme'] = 'split'\n",
    "    scenario['track_scheme'] = 'segregation'\n",
    "    \n",
    "    # Run simulation\n",
    "    batches = batch_run(SugarScape, scenario, number_processes=None,\n",
    "                          iterations=replicates, max_steps=max_steps, display_progress=True, data_collection_period=1)\n",
    "    \n",
    "    for i in range(replicates):\n",
    "        # Get sugar metabolisms\n",
    "        scenario['lower_sugar'] = [float(batch['Lower Sugar Metabolism']) for batch in batches[(max_steps+1)*i:(max_steps+1)*(i+1)]]\n",
    "        scenario['middle_sugar'] = [float(batch['Middle Sugar Metabolism']) for batch in batches[(max_steps+1)*i:(max_steps+1)*(i+1)]]\n",
    "        scenario['upper_sugar'] = [float(batch['Upper Sugar Metabolism']) for batch in batches[(max_steps+1)*i:(max_steps+1)*(i+1)]]\n",
    "        \n",
    "        # Get spice metabolisms\n",
    "        scenario['lower_spice'] = [float(batch['Lower Spice Metabolism']) for batch in batches[(max_steps+1)*i:(max_steps+1)*(i+1)]]\n",
    "        scenario['middle_spice'] = [float(batch['Middle Spice Metabolism']) for batch in batches[(max_steps+1)*i:(max_steps+1)*(i+1)]]\n",
    "        scenario['upper_spice'] = [float(batch['Upper Spice Metabolism']) for batch in batches[(max_steps+1)*i:(max_steps+1)*(i+1)]]\n",
    "        \n",
    "        scenario['lower_vision'] = [float(batch['Lower Vision']) for batch in batches[(max_steps+1)*i:(max_steps+1)*(i+1)]]\n",
    "        scenario['middle_vision'] = [float(batch['Middle Vision']) for batch in batches[(max_steps+1)*i:(max_steps+1)*(i+1)]]\n",
    "        scenario['upper_vision'] = [float(batch['Upper Vision']) for batch in batches[(max_steps+1)*i:(max_steps+1)*(i+1)]]\n",
    "        \n",
    "        results.append(scenario)"
   ]
  },
  {
   "cell_type": "code",
   "execution_count": 76,
   "id": "8de5b164ea4de1a",
   "metadata": {
    "ExecuteTime": {
     "end_time": "2024-07-02T11:36:01.893719Z",
     "start_time": "2024-07-02T11:36:01.871271Z"
    }
   },
   "outputs": [],
   "source": [
    "names = list(scenario.keys()) \n",
    "df = pd.DataFrame(results, columns=names)\n",
    "\n",
    "# Save results\n",
    "df.to_csv('Segregation/Base/results.csv')"
   ]
  },
  {
   "cell_type": "markdown",
   "id": "c52a324d567a647a",
   "metadata": {},
   "source": [
    "# Experimenting with tax schemes"
   ]
  },
  {
   "cell_type": "code",
   "execution_count": 16,
   "id": "e444dd191a8a1058",
   "metadata": {
    "ExecuteTime": {
     "end_time": "2024-07-02T11:48:00.026202Z",
     "start_time": "2024-07-02T11:48:00.019554Z"
    }
   },
   "outputs": [],
   "source": [
    "scenarios = [\n",
    "    {'vision_mean': 4.264199728146195, 'metabolism_mean': 6.751366691663861, 'max_age_mean': 96.55008263885976,\n",
    "     'repopulate_factor': 7.485186895355582, 'cell_regeneration': 1.6743798777461052},   # Worst case\n",
    "    \n",
    "    {'vision_mean': 2.571960593573749, 'metabolism_mean': 7.285224918276071, 'max_age_mean': 93.18476642481984,\n",
    "     'repopulate_factor': 5.733334645628929, 'cell_regeneration': 2.95167014375329},     # Best case\n",
    "    \n",
    "    {'vision_mean': 1.2129357354715466, 'metabolism_mean': 3.5813456028699875, 'max_age_mean': 96.730439318344,\n",
    "     'repopulate_factor': 12.009924734011292, 'cell_regeneration': 1.5217601098120213},  # Average case\n",
    "    \n",
    "    {'vision_mean': 3.5, 'metabolism_mean': 6, 'max_age_mean': 85,\n",
    "     'repopulate_factor': 10, 'cell_regeneration': 3},                                   # Balanced case\n",
    "    \n",
    "    {'vision_mean': 1.2129357354715466, 'metabolism_mean': 3.5813456028699875, 'max_age_mean': 100,\n",
    "     'repopulate_factor': 5, 'cell_regeneration': 1.5217601098120213},                    # Slow evolving\n",
    "    \n",
    "    {'vision_mean': 5.089661035686731, 'metabolism_mean': 5.488567331805825, 'max_age_mean': 70,\n",
    "     'repopulate_factor': 15, 'cell_regeneration': 3.368525765836239},                    # Fast evolving\n",
    "]\n",
    "\n",
    "tax_systems = [\n",
    "    (\"progressive\", \"needs\"),\n",
    "    (\"flat\", \"flat\"),\n",
    "    (\"regressive\", \"random\"),\n",
    "    (\"luxury\", \"progressive\"),\n",
    "    (\"progressive\", \"progressive\")\n",
    "]\n",
    "\n",
    "tax_rates = [0.1, 0.25, 0.4]\n",
    "\n",
    "results = []\n",
    "replicates = 3\n",
    "max_steps = 2"
   ]
  },
  {
   "cell_type": "code",
   "execution_count": 17,
   "id": "d5df77d08726c261",
   "metadata": {
    "ExecuteTime": {
     "start_time": "2024-07-02T11:48:10.589293Z"
    },
    "jupyter": {
     "is_executing": true
    }
   },
   "outputs": [
    {
     "name": "stderr",
     "output_type": "stream",
     "text": [
      "100%|███████████████████████████████████| 6/6 [01:52<00:00, 18.74s/it]\n"
     ]
    }
   ],
   "source": [
    "with tqdm(total=len(scenarios), ncols=70) as pbar:\n",
    "    for scenario in scenarios:\n",
    "        for tax_system in tax_systems:\n",
    "            for tax_rate in tax_rates:\n",
    "                # Add parameters\n",
    "                scenario_copy = scenario.copy()\n",
    "                scenario_copy['tax_scheme'] = tax_system[0]\n",
    "                scenario_copy['distributer_scheme'] = tax_system[1]\n",
    "                scenario_copy['tax_rate'] = tax_rate\n",
    "                scenario_copy['map_scheme'] = 'split'\n",
    "                scenario_copy['track_scheme'] = 'segregation'\n",
    "                \n",
    "                # Run simulation\n",
    "                batches = batch_run(SugarScape, scenario_copy, number_processes=None,\n",
    "                                      iterations=replicates, max_steps=max_steps, display_progress=False, data_collection_period=1)\n",
    "                \n",
    "                for i in range(replicates):\n",
    "                    # Get sugar metabolisms\n",
    "                    scenario_copy['lower_sugar'] = [float(batch['Lower Sugar Metabolism']) for batch in batches[(max_steps+1)*i:(max_steps+1)*(i+1)]]\n",
    "                    scenario_copy['middle_sugar'] = [float(batch['Middle Sugar Metabolism']) for batch in batches[(max_steps+1)*i:(max_steps+1)*(i+1)]]\n",
    "                    scenario_copy['upper_sugar'] = [float(batch['Upper Sugar Metabolism']) for batch in batches[(max_steps+1)*i:(max_steps+1)*(i+1)]]\n",
    "                    \n",
    "                    # Get spice metabolisms\n",
    "                    scenario_copy['lower_spice'] = [float(batch['Lower Spice Metabolism']) for batch in batches[(max_steps+1)*i:(max_steps+1)*(i+1)]]\n",
    "                    scenario_copy['middle_spice'] = [float(batch['Middle Spice Metabolism']) for batch in batches[(max_steps+1)*i:(max_steps+1)*(i+1)]]\n",
    "                    scenario_copy['upper_spice'] = [float(batch['Upper Spice Metabolism']) for batch in batches[(max_steps+1)*i:(max_steps+1)*(i+1)]]\n",
    "                    \n",
    "                    scenario_copy['lower_vision'] = [float(batch['Lower Vision']) for batch in batches[(max_steps+1)*i:(max_steps+1)*(i+1)]]\n",
    "                    scenario_copy['middle_vision'] = [float(batch['Middle Vision']) for batch in batches[(max_steps+1)*i:(max_steps+1)*(i+1)]]\n",
    "                    scenario_copy['upper_vision'] = [float(batch['Upper Vision']) for batch in batches[(max_steps+1)*i:(max_steps+1)*(i+1)]]\n",
    "                    \n",
    "                    results.append(scenario_copy)\n",
    "        pbar.update(1)"
   ]
  },
  {
   "cell_type": "code",
   "execution_count": 18,
   "id": "e437ea8c78ce2ec7",
   "metadata": {},
   "outputs": [],
   "source": [
    "names = list(scenario_copy.keys()) \n",
    "df = pd.DataFrame(results, columns=names)\n",
    "\n",
    "# Save results\n",
    "df.to_csv('Segregation/results.csv')"
   ]
  },
  {
   "cell_type": "code",
   "execution_count": 51,
   "id": "44627388bc4c0b6b",
   "metadata": {
    "ExecuteTime": {
     "end_time": "2024-07-02T11:20:33.397135Z",
     "start_time": "2024-07-02T11:20:33.392273Z"
    }
   },
   "outputs": [
    {
     "name": "stdout",
     "output_type": "stream",
     "text": [
      "30\n"
     ]
    }
   ],
   "source": [
    "# fig, axs = plt.subplots(1, 3, figsize=(15, 5))\n",
    "# keys = ['sugar', 'spice', 'vision']\n",
    "# areas = ['lower', 'middle', 'upper']\n",
    "\n",
    "# for ax, key in zip(axs, keys):\n",
    "#     for area in areas:\n",
    "#         # Get values\n",
    "#         values = df[f'{area}_{key}']\n",
    "        \n",
    "#         # Convert to array\n",
    "#         arr = np.vstack(values)\n",
    "        \n",
    "#         # Compute mean and ci\n",
    "#         mean = np.mean(arr, axis=0)\n",
    "#         ci = np.std(arr, ddof=1) / np.sqrt(arr.shape[0]) * 1.96\n",
    "        \n",
    "#         x = np.arange(len(mean))\n",
    "#         ax.plot(x, mean, label=area.capitalize())\n",
    "#         ax.fill_between(x, mean - ci, mean + ci, alpha=0.5)\n",
    "    \n",
    "#     ax.grid()\n",
    "#     ax.set_title(key.capitalize())\n",
    "    \n",
    "# axs[-1].legend()\n",
    "# fig.suptitle('Typical Scenario')\n",
    "# fig.tight_layout()\n",
    "    "
   ]
  },
  {
   "cell_type": "code",
   "execution_count": null,
   "id": "f1418ed0bf5750ab",
   "metadata": {},
   "outputs": [],
   "source": []
  }
 ],
 "metadata": {
  "kernelspec": {
   "display_name": "Python 3 (ipykernel)",
   "language": "python",
   "name": "python3"
  },
  "language_info": {
   "codemirror_mode": {
    "name": "ipython",
    "version": 3
   },
   "file_extension": ".py",
   "mimetype": "text/x-python",
   "name": "python",
   "nbconvert_exporter": "python",
   "pygments_lexer": "ipython3",
   "version": "3.11.9"
  }
 },
 "nbformat": 4,
 "nbformat_minor": 5
}
