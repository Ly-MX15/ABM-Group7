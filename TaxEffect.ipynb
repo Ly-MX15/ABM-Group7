{
 "cells": [
  {
   "cell_type": "code",
   "id": "initial_id",
   "metadata": {
    "collapsed": true,
    "ExecuteTime": {
     "end_time": "2024-07-07T16:36:00.136553Z",
     "start_time": "2024-07-07T16:36:00.126897Z"
    }
   },
   "source": [
    "from src.Experiments.TaxEffect import *\n",
    "import matplotlib.pyplot as plt\n",
    "from tqdm import tqdm\n",
    "import os"
   ],
   "outputs": [],
   "execution_count": 63
  },
  {
   "metadata": {},
   "cell_type": "markdown",
   "source": [
    "# Running model without tax\n",
    "Set map-scheme based on your name:\n",
    "- **Priyank**: top-heavy\n",
    "- **Amish**: uniform\n",
    "- **Ilia**: split"
   ],
   "id": "3224358d5125421d"
  },
  {
   "metadata": {
    "ExecuteTime": {
     "end_time": "2024-07-06T17:59:13.128681Z",
     "start_time": "2024-07-06T17:58:50.915859Z"
    }
   },
   "cell_type": "code",
   "source": [
    "# Getting all scenarios\n",
    "scenarios = load_scenarios(\"scenarios.csv\")\n",
    "\n",
    "## Set map-scheme based on your name\n",
    "map_scheme = \"uniform\"\n",
    "\n",
    "# Number of replicates and maximum steps, do not change\n",
    "replicates = 30\n",
    "max_steps = 200\n",
    "\n",
    "# Running simulation\n",
    "df = run_baseline(scenarios, map_scheme, replicates, max_steps)\n",
    "\n",
    "# Saving the results\n",
    "df.to_csv(f\"Experiments/Base/results_{map_scheme}.csv\", index=False)"
   ],
   "id": "665de4928e0a6cfa",
   "outputs": [
    {
     "name": "stderr",
     "output_type": "stream",
     "text": [
      "100%|███████████████████████████████████████████████████████| 6/6 [00:22<00:00,  3.70s/it]\n"
     ]
    }
   ],
   "execution_count": 5
  },
  {
   "metadata": {},
   "cell_type": "markdown",
   "source": [
    "# Simulating with Tax\n",
    "Select map-scheme based on previous step"
   ],
   "id": "ef2ac1ddc0eb13a4"
  },
  {
   "metadata": {
    "ExecuteTime": {
     "end_time": "2024-07-07T11:41:21.312055Z",
     "start_time": "2024-07-07T11:41:13.134142Z"
    }
   },
   "cell_type": "code",
   "source": [
    "# Getting all scenarios\n",
    "scenarios = load_scenarios(\"scenarios.csv\")\n",
    "\n",
    "## Set map-scheme based on your name\n",
    "map_scheme = \"uniform\"\n",
    "\n",
    "# Number of replicates and maximum steps, do not change\n",
    "replicates = 10\n",
    "max_steps = 200\n",
    "\n",
    "# Create tax systems\n",
    "tax_systems = [\n",
    "    (\"progressive\", \"needs\"),\n",
    "    (\"flat\", \"flat\"),\n",
    "    (\"regressive\", \"random\"),\n",
    "    (\"luxury\", \"progressive\"),\n",
    "    (\"progressive\", \"progressive\")\n",
    "]\n",
    "\n",
    "# Setting tax rates\n",
    "tax_rates = [0.1, 0.25, 0.4]\n",
    "\n",
    "# Running simulation\n",
    "df = run_experiments(scenarios, map_scheme, tax_systems, tax_rates, replicates, max_steps)\n",
    "\n",
    "# Saving the results\n",
    "df.to_csv(f\"Experiments/results_{map_scheme}.csv\", index=False)"
   ],
   "id": "ffff2aaec2e04de",
   "outputs": [
    {
     "name": "stderr",
     "output_type": "stream",
     "text": [
      "100%|█████████████████████████████████| 18/18 [00:08<00:00,  2.21it/s]\n"
     ]
    }
   ],
   "execution_count": 16
  },
  {
   "metadata": {},
   "cell_type": "markdown",
   "source": "# Creating Time-Series",
   "id": "c1e51cd37ea34b2d"
  },
  {
   "metadata": {
    "ExecuteTime": {
     "end_time": "2024-07-07T16:16:49.362866Z",
     "start_time": "2024-07-07T16:16:02.972004Z"
    }
   },
   "cell_type": "code",
   "source": [
    "# Path to results and scenario\n",
    "path_results = \"Experiments\"\n",
    "scenarios = \"scenarios.csv\"\n",
    "\n",
    "# Create folder for saving results\n",
    "save_results = f\"{path_results}/time_plots\"\n",
    "if not os.path.exists(save_results):\n",
    "    os.makedirs(save_results)\n",
    "\n",
    "# Load scenarios\n",
    "scenarios = load_scenarios(scenarios)\n",
    "\n",
    "# Looping through map schemes\n",
    "map_schemes = [\"uniform\", \"top_heavy\", \"split\"]\n",
    "with tqdm(total=len(map_schemes) * len(scenarios)) as pbar:\n",
    "    for map_scheme in map_schemes:\n",
    "        # Get the results of map scheme\n",
    "        results = load_results(f\"{path_results}/results_{map_scheme}.csv\", scenarios)\n",
    "        \n",
    "        # Loop through scenarios\n",
    "        for scenario_name, scenario in results.items():\n",
    "            # Create time series plot\n",
    "            fig, axs = time_series(scenario)\n",
    "            \n",
    "            # Add suptitle and apply tight layout\n",
    "            fig.suptitle(f\"{map_scheme.capitalize()} - {scenario_name.capitalize()}\")\n",
    "            fig.tight_layout()\n",
    "            \n",
    "            # Saving figure\n",
    "            fig.savefig(f\"{save_results}/{map_scheme}_{scenario_name}.png\", dpi=300, bbox_inches=\"tight\")\n",
    "            \n",
    "            # Close figure to avoid plotting\n",
    "            plt.close(fig)\n",
    "            \n",
    "            # Update progress bar\n",
    "            pbar.update(1)\n",
    "    "
   ],
   "id": "6453b44f539bb7c8",
   "outputs": [
    {
     "name": "stderr",
     "output_type": "stream",
     "text": [
      "100%|██████████| 18/18 [00:46<00:00,  2.58s/it]\n"
     ]
    }
   ],
   "execution_count": 36
  },
  {
   "metadata": {},
   "cell_type": "markdown",
   "source": "# Creating Box-Plots",
   "id": "fc36e55a50e458b8"
  },
  {
   "metadata": {
    "ExecuteTime": {
     "end_time": "2024-07-07T16:37:54.582013Z",
     "start_time": "2024-07-07T16:37:37.754711Z"
    }
   },
   "cell_type": "code",
   "source": [
    "# Load scenarios\n",
    "scenarios = load_scenarios(\"scenarios.csv\")\n",
    "\n",
    "# Map schemes\n",
    "map_schemes = [\"uniform\", \"top_heavy\", \"split\"]\n",
    "\n",
    "for map_scheme in map_schemes:\n",
    "    # Get results\n",
    "    results = load_results(f\"Experiments/results_{map_scheme}.csv\", scenarios)\n",
    "    base_results = load_results(f\"Experiments/Base/results_{map_scheme}.csv\", scenarios)\n",
    "    \n",
    "    # Create boxplot\n",
    "    figs = boxplot(results, base_results, map_scheme)\n",
    "    \n",
    "    for variable, (fig, ax) in figs.items():\n",
    "        # Save figure\n",
    "        fig.savefig(f\"Experiments/boxplots/{map_scheme.capitalize()}_{variable.capitalize()}.png\", dpi=300, bbox_inches=\"tight\")\n",
    "        \n",
    "        # Close figure\n",
    "        plt.close(fig)\n",
    "        "
   ],
   "id": "9fa73d7e2c0db4e0",
   "outputs": [],
   "execution_count": 66
  }
 ],
 "metadata": {
  "kernelspec": {
   "display_name": "Python 3",
   "language": "python",
   "name": "python3"
  },
  "language_info": {
   "codemirror_mode": {
    "name": "ipython",
    "version": 2
   },
   "file_extension": ".py",
   "mimetype": "text/x-python",
   "name": "python",
   "nbconvert_exporter": "python",
   "pygments_lexer": "ipython2",
   "version": "2.7.6"
  }
 },
 "nbformat": 4,
 "nbformat_minor": 5
}
