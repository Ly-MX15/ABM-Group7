{
 "cells": [
  {
   "cell_type": "code",
   "execution_count": 1,
   "id": "initial_id",
   "metadata": {
    "ExecuteTime": {
     "end_time": "2024-07-07T16:36:00.136553Z",
     "start_time": "2024-07-07T16:36:00.126897Z"
    }
   },
   "outputs": [],
   "source": [
    "from src.Experiments.TaxEffect import *\n",
    "import matplotlib.pyplot as plt\n",
    "from tqdm import tqdm\n",
    "import os"
   ]
  },
  {
   "cell_type": "markdown",
   "id": "3224358d5125421d",
   "metadata": {},
   "source": [
    "# Running model without tax\n",
    "Set map-scheme based on your name:\n",
    "- **Priyank**: top-heavy\n",
    "- **Amish**: uniform\n",
    "- **Ilia**: split"
   ]
  },
  {
   "cell_type": "code",
   "execution_count": 5,
   "id": "665de4928e0a6cfa",
   "metadata": {
    "ExecuteTime": {
     "end_time": "2024-07-06T17:59:13.128681Z",
     "start_time": "2024-07-06T17:58:50.915859Z"
    }
   },
   "outputs": [
    {
     "name": "stderr",
     "output_type": "stream",
     "text": [
      "100%|███████████████████████████████████████████████████████| 6/6 [00:22<00:00,  3.70s/it]\n"
     ]
    }
   ],
   "source": [
    "# Getting all scenarios\n",
    "scenarios = load_scenarios(\"scenarios.csv\")\n",
    "\n",
    "## Set map-scheme based on your name\n",
    "map_scheme = \"uniform\"\n",
    "\n",
    "# Number of replicates and maximum steps, do not change\n",
    "replicates = 30\n",
    "max_steps = 200\n",
    "\n",
    "# Running simulation\n",
    "df = run_baseline(scenarios, map_scheme, replicates, max_steps)\n",
    "\n",
    "# Saving the results\n",
    "df.to_csv(f\"TaxEffect/Base/results_{map_scheme}.csv\", index=False)"
   ]
  },
  {
   "cell_type": "markdown",
   "id": "ef2ac1ddc0eb13a4",
   "metadata": {},
   "source": [
    "# Simulating with Tax\n",
    "Select map-scheme based on previous step"
   ]
  },
  {
   "cell_type": "code",
   "execution_count": 16,
   "id": "ffff2aaec2e04de",
   "metadata": {
    "ExecuteTime": {
     "end_time": "2024-07-07T11:41:21.312055Z",
     "start_time": "2024-07-07T11:41:13.134142Z"
    }
   },
   "outputs": [
    {
     "name": "stderr",
     "output_type": "stream",
     "text": [
      "100%|█████████████████████████████████| 18/18 [00:08<00:00,  2.21it/s]\n"
     ]
    }
   ],
   "source": [
    "# Getting all scenarios\n",
    "scenarios = load_scenarios(\"scenarios.csv\")\n",
    "\n",
    "## Set map-scheme based on your name\n",
    "map_scheme = \"uniform\"\n",
    "\n",
    "# Number of replicates and maximum steps, do not change\n",
    "replicates = 10\n",
    "max_steps = 200\n",
    "\n",
    "# Create tax systems\n",
    "tax_systems = [\n",
    "    (\"progressive\", \"needs\"),\n",
    "    (\"flat\", \"flat\"),\n",
    "    (\"regressive\", \"random\"),\n",
    "    (\"luxury\", \"progressive\"),\n",
    "    (\"progressive\", \"progressive\")\n",
    "]\n",
    "\n",
    "# Setting tax rates\n",
    "tax_rates = [0.1, 0.25, 0.4]\n",
    "\n",
    "# Running simulation\n",
    "df = run_experiments(scenarios, map_scheme, tax_systems, tax_rates, replicates, max_steps)\n",
    "\n",
    "# Saving the results\n",
    "df.to_csv(f\"TaxEffect/results_{map_scheme}.csv\", index=False)"
   ]
  },
  {
   "cell_type": "markdown",
   "id": "c1e51cd37ea34b2d",
   "metadata": {},
   "source": [
    "# Creating Time-Series"
   ]
  },
  {
   "cell_type": "code",
   "execution_count": 2,
   "id": "6453b44f539bb7c8",
   "metadata": {
    "ExecuteTime": {
     "end_time": "2024-07-07T16:16:49.362866Z",
     "start_time": "2024-07-07T16:16:02.972004Z"
    }
   },
   "outputs": [
    {
     "name": "stderr",
     "output_type": "stream",
     "text": [
      "100%|██████████| 18/18 [00:41<00:00,  2.31s/it]\n"
     ]
    }
   ],
   "source": [
    "# Path to results and scenario\n",
    "path_results = \"TaxEffect\"\n",
    "scenarios = \"scenarios.csv\"\n",
    "\n",
    "# Create folder for saving results\n",
    "save_results = f\"{path_results}/time_plots\"\n",
    "if not os.path.exists(save_results):\n",
    "    os.makedirs(save_results)\n",
    "\n",
    "# Load scenarios\n",
    "scenarios = load_scenarios(scenarios)\n",
    "\n",
    "# Looping through map schemes\n",
    "map_schemes = [\"uniform\", \"top_heavy\", \"split\"]\n",
    "with tqdm(total=len(map_schemes) * len(scenarios)) as pbar:\n",
    "    for map_scheme in map_schemes:\n",
    "        # Get the results of map scheme\n",
    "        results = load_results(f\"{path_results}/results_{map_scheme}.csv\", scenarios)\n",
    "        \n",
    "        # Loop through scenarios\n",
    "        for scenario_name, scenario in results.items():\n",
    "            # Create time series plot\n",
    "            fig, axs = time_series(scenario)\n",
    "            \n",
    "            # Add suptitle and apply tight layout\n",
    "            fig.suptitle(f\"{map_scheme.capitalize()} - {scenario_name.capitalize()}\")\n",
    "            fig.tight_layout()\n",
    "            \n",
    "            # Saving figure\n",
    "            fig.savefig(f\"{save_results}/{map_scheme}_{scenario_name}.png\", dpi=300, bbox_inches=\"tight\")\n",
    "            \n",
    "            # Close figure to avoid plotting\n",
    "            plt.close(fig)\n",
    "            \n",
    "            # Update progress bar\n",
    "            pbar.update(1)\n",
    "    "
   ]
  },
  {
   "cell_type": "markdown",
   "id": "fc36e55a50e458b8",
   "metadata": {},
   "source": [
    "# Creating Box-Plots"
   ]
  },
  {
   "cell_type": "code",
   "execution_count": 3,
   "id": "9fa73d7e2c0db4e0",
   "metadata": {
    "ExecuteTime": {
     "end_time": "2024-07-07T16:37:54.582013Z",
     "start_time": "2024-07-07T16:37:37.754711Z"
    }
   },
   "outputs": [],
   "source": [
    "# Load scenarios\n",
    "scenarios = load_scenarios(\"scenarios.csv\")\n",
    "\n",
    "# Map schemes\n",
    "map_schemes = [\"uniform\", \"top_heavy\", \"split\"]\n",
    "\n",
    "for map_scheme in map_schemes:\n",
    "    # Get results\n",
    "    results = load_results(f\"TaxEffect/results_{map_scheme}.csv\", scenarios)\n",
    "    base_results = load_results(f\"TaxEffect/Base/results_{map_scheme}.csv\", scenarios)\n",
    "    \n",
    "    # Create boxplot\n",
    "    figs = boxplot(results, base_results, map_scheme)\n",
    "    \n",
    "    for variable, (fig, ax) in figs.items():\n",
    "        # Save figure\n",
    "        fig.savefig(f\"TaxEffect/boxplots/{map_scheme.capitalize()}_{variable.capitalize()}.png\", dpi=300, bbox_inches=\"tight\")\n",
    "        \n",
    "        # Close figure\n",
    "        plt.close(fig)\n",
    "        "
   ]
  },
  {
   "cell_type": "code",
   "execution_count": null,
   "id": "44b8d0b83348a27f",
   "metadata": {},
   "outputs": [],
   "source": []
  }
 ],
 "metadata": {
  "kernelspec": {
   "display_name": "Python 3 (ipykernel)",
   "language": "python",
   "name": "python3"
  },
  "language_info": {
   "codemirror_mode": {
    "name": "ipython",
    "version": 3
   },
   "file_extension": ".py",
   "mimetype": "text/x-python",
   "name": "python",
   "nbconvert_exporter": "python",
   "pygments_lexer": "ipython3",
   "version": "3.11.9"
  }
 },
 "nbformat": 4,
 "nbformat_minor": 5
}
