{
 "cells": [
  {
   "cell_type": "code",
   "execution_count": 1,
   "id": "initial_id",
   "metadata": {
    "ExecuteTime": {
     "end_time": "2024-06-30T11:52:45.262851Z",
     "start_time": "2024-06-30T11:52:43.936811Z"
    }
   },
   "outputs": [],
   "source": [
    "from src.SensitivityAnalysis import load_data\n",
    "import matplotlib.pyplot as plt\n",
    "import pandas as pd\n",
    "from src.SugarScape import SugarScape\n",
    "from mesa import batch_run\n",
    "import numpy as np"
   ]
  },
  {
   "cell_type": "markdown",
   "id": "f87f6ff3db7be888",
   "metadata": {},
   "source": [
    "# Finding Parameters"
   ]
  },
  {
   "cell_type": "code",
   "execution_count": 2,
   "id": "928f9b005f7bb020",
   "metadata": {
    "ExecuteTime": {
     "end_time": "2024-06-30T13:20:04.140016Z",
     "start_time": "2024-06-30T13:20:03.886355Z"
    }
   },
   "outputs": [],
   "source": [
    "data = load_data()\n",
    "averaged = []\n",
    "for i in range(len(data) // 10 - 1):\n",
    "    trader_mean = data['Trader Count'].iloc[i*10:(i+1)*10].mean()\n",
    "    gini_mean = data['Gini'].iloc[i*10:(i+1)*10].mean()\n",
    "    \n",
    "    if trader_mean > 0:\n",
    "        averaged.append(1 / gini_mean * trader_mean)\n"
   ]
  },
  {
   "cell_type": "code",
   "execution_count": 3,
   "id": "1f69bb1ec6fe861a",
   "metadata": {
    "ExecuteTime": {
     "end_time": "2024-06-30T13:20:04.150258Z",
     "start_time": "2024-06-30T13:20:04.142270Z"
    }
   },
   "outputs": [
    {
     "name": "stdout",
     "output_type": "stream",
     "text": [
      "Worst case: {'vision_mean': 3.53318753093481, 'metabolism_mean': 5.998808294534683, 'max_age_mean': 85.80413511954248, 'repopulate_factor': 14.66142563149333, 'cell_regeneration': 4.503312561661005, 'Gini': 0.423359972362048, 'Trader Count': 1104.0}\n",
      "Best case: {'vision_mean': 1.7622311217710376, 'metabolism_mean': 5.248785311356187, 'max_age_mean': 85.99956788122654, 'repopulate_factor': 14.353867815807462, 'cell_regeneration': 1.2028064504265783, 'Gini': 0.4930405445705637, 'Trader Count': 437.0}\n",
      "Typical: {'vision_mean': 1.2129357354715466, 'metabolism_mean': 3.5813456028699875, 'max_age_mean': 96.730439318344, 'repopulate_factor': 12.009924734011292, 'cell_regeneration': 1.5217601098120213, 'Gini': 0.50072101795512, 'Trader Count': 1118.0}\n"
     ]
    }
   ],
   "source": [
    "# Find where gini maximized \n",
    "worst = dict(data.iloc[np.argmin(averaged)])\n",
    "best = dict(data.iloc[np.argmax(averaged)])\n",
    "\n",
    "worst = {key: float(value) for (key,value) in worst.items()}\n",
    "best = {key: float(value) for (key,value) in best.items()}\n",
    "\n",
    "print(f'Worst case: {worst}')\n",
    "print(f'Best case: {best}')\n",
    "\n",
    "# Find closest to average\n",
    "dist = (averaged - np.mean(averaged))**2\n",
    "idx = np.argmin(dist)\n",
    "\n",
    "typical = dict(data.iloc[idx * 10])\n",
    "typical = {key: float(value) for (key,value) in typical.items()}\n",
    "print(f'Typical: {typical}')\n"
   ]
  },
  {
   "cell_type": "markdown",
   "id": "95714183c3858450",
   "metadata": {},
   "source": [
    "# Run Base Simulations"
   ]
  },
  {
   "cell_type": "code",
   "execution_count": 4,
   "id": "a16cbc27c9fe4f93",
   "metadata": {
    "ExecuteTime": {
     "end_time": "2024-06-30T13:25:45.072858Z",
     "start_time": "2024-06-30T13:25:39.661160Z"
    }
   },
   "outputs": [
    {
     "data": {
      "application/vnd.jupyter.widget-view+json": {
       "model_id": "21e0db57868a4ec5abc35df24b837d29",
       "version_major": 2,
       "version_minor": 0
      },
      "text/plain": [
       "  0%|          | 0/30 [00:00<?, ?it/s]"
      ]
     },
     "metadata": {},
     "output_type": "display_data"
    },
    {
     "data": {
      "application/vnd.jupyter.widget-view+json": {
       "model_id": "69e8c0caa015423390a0cdab4585211a",
       "version_major": 2,
       "version_minor": 0
      },
      "text/plain": [
       "  0%|          | 0/30 [00:00<?, ?it/s]"
      ]
     },
     "metadata": {},
     "output_type": "display_data"
    },
    {
     "data": {
      "application/vnd.jupyter.widget-view+json": {
       "model_id": "fe372be759b4490996ab2dab5fc604ec",
       "version_major": 2,
       "version_minor": 0
      },
      "text/plain": [
       "  0%|          | 0/30 [00:00<?, ?it/s]"
      ]
     },
     "metadata": {},
     "output_type": "display_data"
    },
    {
     "data": {
      "application/vnd.jupyter.widget-view+json": {
       "model_id": "a9f04a6a523945ceabf19c71163a5863",
       "version_major": 2,
       "version_minor": 0
      },
      "text/plain": [
       "  0%|          | 0/30 [00:00<?, ?it/s]"
      ]
     },
     "metadata": {},
     "output_type": "display_data"
    },
    {
     "data": {
      "application/vnd.jupyter.widget-view+json": {
       "model_id": "62e749496bce43a78e7b93e2882e9e62",
       "version_major": 2,
       "version_minor": 0
      },
      "text/plain": [
       "  0%|          | 0/30 [00:00<?, ?it/s]"
      ]
     },
     "metadata": {},
     "output_type": "display_data"
    },
    {
     "data": {
      "application/vnd.jupyter.widget-view+json": {
       "model_id": "579d5803f9194b5d8e9649137161af27",
       "version_major": 2,
       "version_minor": 0
      },
      "text/plain": [
       "  0%|          | 0/30 [00:00<?, ?it/s]"
      ]
     },
     "metadata": {},
     "output_type": "display_data"
    },
    {
     "ename": "ValueError",
     "evalue": "need at least one array to concatenate",
     "output_type": "error",
     "traceback": [
      "\u001b[0;31m---------------------------------------------------------------------------\u001b[0m",
      "\u001b[0;31mValueError\u001b[0m                                Traceback (most recent call last)",
      "Cell \u001b[0;32mIn[4], line 54\u001b[0m\n\u001b[1;32m     51\u001b[0m trader \u001b[38;5;241m=\u001b[39m df\u001b[38;5;241m.\u001b[39miloc[i\u001b[38;5;241m*\u001b[39mmax_steps:(i\u001b[38;5;241m+\u001b[39m\u001b[38;5;241m1\u001b[39m)\u001b[38;5;241m*\u001b[39mmax_steps][\u001b[38;5;124m'\u001b[39m\u001b[38;5;124mTrader Count\u001b[39m\u001b[38;5;124m'\u001b[39m]\n\u001b[1;32m     53\u001b[0m \u001b[38;5;66;03m# Convert to 2d np arrays\u001b[39;00m\n\u001b[0;32m---> 54\u001b[0m gini \u001b[38;5;241m=\u001b[39m np\u001b[38;5;241m.\u001b[39mvstack(gini)\n\u001b[1;32m     55\u001b[0m trader \u001b[38;5;241m=\u001b[39m np\u001b[38;5;241m.\u001b[39mvstack(trader)\n\u001b[1;32m     57\u001b[0m \u001b[38;5;66;03m# Get means and ci\u001b[39;00m\n",
      "File \u001b[0;32m/opt/anaconda3/lib/python3.11/site-packages/numpy/core/shape_base.py:289\u001b[0m, in \u001b[0;36mvstack\u001b[0;34m(tup, dtype, casting)\u001b[0m\n\u001b[1;32m    287\u001b[0m \u001b[38;5;28;01mif\u001b[39;00m \u001b[38;5;129;01mnot\u001b[39;00m \u001b[38;5;28misinstance\u001b[39m(arrs, \u001b[38;5;28mlist\u001b[39m):\n\u001b[1;32m    288\u001b[0m     arrs \u001b[38;5;241m=\u001b[39m [arrs]\n\u001b[0;32m--> 289\u001b[0m \u001b[38;5;28;01mreturn\u001b[39;00m _nx\u001b[38;5;241m.\u001b[39mconcatenate(arrs, \u001b[38;5;241m0\u001b[39m, dtype\u001b[38;5;241m=\u001b[39mdtype, casting\u001b[38;5;241m=\u001b[39mcasting)\n",
      "\u001b[0;31mValueError\u001b[0m: need at least one array to concatenate"
     ]
    },
    {
     "data": {
      "image/png": "[encoded data removed]",
      "text/plain": [
       "<Figure size 1200x500 with 2 Axes>"
      ]
     },
     "metadata": {},
     "output_type": "display_data"
    }
   ],
   "source": [
    "## USe these map schemes based on your name\n",
    "# Priyank: top-heavy\n",
    "# Amish: uniform\n",
    "# Ilia: split\n",
    "\n",
    "map_scheme = 'top_heavy'\n",
    "\n",
    "scenarios = [\n",
    "    {'vision_mean': 4.264199728146195, 'metabolism_mean': 6.751366691663861, 'max_age_mean': 96.55008263885976,\n",
    "     'repopulate_factor': 7.485186895355582, 'cell_regeneration': 1.6743798777461052, 'map_scheme': map_scheme},   # Worst case\n",
    "    \n",
    "    {'vision_mean': 2.571960593573749, 'metabolism_mean': 7.285224918276071, 'max_age_mean': 93.18476642481984,\n",
    "     'repopulate_factor': 5.733334645628929, 'cell_regeneration': 2.95167014375329, 'map_scheme': map_scheme},     # Best case\n",
    "    \n",
    "    {'vision_mean': 1.2129357354715466, 'metabolism_mean': 3.5813456028699875, 'max_age_mean': 96.730439318344,\n",
    "     'repopulate_factor': 12.009924734011292, 'cell_regeneration': 1.5217601098120213, 'map_scheme': map_scheme},  # Average case\n",
    "    \n",
    "    {'vision_mean': 3.5, 'metabolism_mean': 6, 'max_age_mean': 85,\n",
    "     'repopulate_factor': 10, 'cell_regeneration': 3, 'map_scheme': map_scheme},                                   # Balanced case\n",
    "    \n",
    "    {'vision_mean': 1.2129357354715466, 'metabolism_mean': 3.5813456028699875, 'max_age_mean': 70,\n",
    "     'repopulate_factor': 5, 'cell_regeneration': 1.5217601098120213, 'map_scheme': map_scheme},                    # Slow evolving\n",
    "    \n",
    "    {'vision_mean': 5.089661035686731, 'metabolism_mean': 5.488567331805825, 'max_age_mean': 70,\n",
    "     'repopulate_factor': 15, 'cell_regeneration': 3.368525765836239, 'map_scheme': map_scheme},                    # Fast evolving\n",
    "]\n",
    "\n",
    "results = []\n",
    "replicates = 30\n",
    "max_steps = 200\n",
    "for scenario in scenarios:\n",
    "    batch = batch_run(SugarScape, scenario, number_processes=None,\n",
    "                      iterations=replicates, max_steps=max_steps, display_progress=True, data_collection_period=1)\n",
    "    for i in range(replicates):\n",
    "        scenario[\"Gini\"] = [val['Gini'] for val in batch[(max_steps+1)*i:(max_steps+1)*(i+1)]]\n",
    "        scenario[\"Trader Count\"] = [val['Trader Count'] for val in batch[(max_steps+1)*i:(max_steps+1)*(i+1)]]\n",
    "\n",
    "        results.append(list(scenario.values()))\n",
    "\n",
    "# Convert to df and save\n",
    "names = list(scenario.keys()) \n",
    "df = pd.DataFrame(results, columns=names)\n",
    "    \n",
    "df.to_csv(f'Experiments/Base/results_{map_scheme}.csv')\n",
    "\n",
    "fig, ax = plt.subplots(1, 2, figsize=(12, 5))\n",
    "names = ['Worst', 'Best', 'Typical', 'Balanced', 'Slow evolving', 'Fast evolving']\n",
    "for i in range(len(scenarios)):\n",
    "    # Get gini and trader count of every scenario\n",
    "    gini = df.iloc[i*max_steps:(i+1)*max_steps]['Gini']\n",
    "    trader = df.iloc[i*max_steps:(i+1)*max_steps]['Trader Count']\n",
    "    \n",
    "    # Convert to 2d np arrays\n",
    "    gini = np.vstack(gini)\n",
    "    trader = np.vstack(trader)\n",
    "    \n",
    "    # Get means and ci\n",
    "    gini_mean = np.mean(gini, axis=0)\n",
    "    gini_ci = np.std(gini, ddof=1, axis=0) / replicates * 1.96\n",
    "    trader_mean = np.mean(trader, axis=0)\n",
    "    trader_ci = np.std(trader, ddof=1, axis=0) / replicates * 1.96\n",
    "    \n",
    "    # Plotting\n",
    "    x = np.arange(len(gini_mean))\n",
    "    ax[0].plot(x, gini_mean, label=names[i])\n",
    "    ax[0].fill_between(x, gini_mean + gini_ci, gini_mean - gini_ci, alpha=0.5)\n",
    "    ax[1].plot(x, trader_mean, label=names[i])\n",
    "    ax[1].fill_between(x, trader_mean + trader_ci, trader_mean - trader_ci, alpha=0.5)\n",
    "\n",
    "# Set labels, grid and title\n",
    "ax[1].legend(bbox_to_anchor=(1, 1.05))\n",
    "ax[0].set_title('Gini')\n",
    "ax[1].set_title('Trader Count')\n",
    "for i in range(2):\n",
    "    ax[i].grid()\n",
    "    ax[i].set_xlabel('Timesteps')\n",
    "ax[0].set_ylabel('Gini Coefficient')\n",
    "ax[1].set_ylabel('Number of Traders')\n",
    "\n",
    "# \n",
    "fig.tight_layout()\n",
    "fig.savefig(f'Experiments/Base/plot_{map_scheme}.png', dpi=300, bbox_inches='tight')\n"
   ]
  },
  {
   "cell_type": "code",
   "execution_count": 5,
   "id": "42396d28ae8703fb",
   "metadata": {
    "ExecuteTime": {
     "end_time": "2024-06-30T13:23:23.003276Z",
     "start_time": "2024-06-30T13:23:22.996517Z"
    }
   },
   "outputs": [
    {
     "name": "stdout",
     "output_type": "stream",
     "text": [
      "Series([], Name: Gini, dtype: object)\n"
     ]
    }
   ],
   "source": [
    "print(gini)"
   ]
  },
  {
   "cell_type": "code",
   "execution_count": null,
   "id": "a9bfd46461f3035c",
   "metadata": {
    "ExecuteTime": {
     "end_time": "2024-06-30T11:53:00.136073Z",
     "start_time": "2024-06-30T11:53:00.110670Z"
    }
   },
   "outputs": [],
   "source": [
    "?names = list(scenario.keys()) \n",
    "df = pd.DataFrame(results, columns=names)\n",
    "df.to_csv(f'Base_results_{map_scheme}.csv')"
   ]
  },
  {
   "cell_type": "code",
   "execution_count": null,
   "id": "c589f981111c28f1",
   "metadata": {},
   "outputs": [],
   "source": []
  }
 ],
 "metadata": {
  "kernelspec": {
   "display_name": "Python 3 (ipykernel)",
   "language": "python",
   "name": "python3"
  },
  "language_info": {
   "codemirror_mode": {
    "name": "ipython",
    "version": 3
   },
   "file_extension": ".py",
   "mimetype": "text/x-python",
   "name": "python",
   "nbconvert_exporter": "python",
   "pygments_lexer": "ipython3",
   "version": "3.11.7"
  }
 },
 "nbformat": 4,
 "nbformat_minor": 5
}
