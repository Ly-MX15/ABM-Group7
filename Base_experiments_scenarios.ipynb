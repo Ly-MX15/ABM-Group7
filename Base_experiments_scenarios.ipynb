{
 "cells": [
  {
   "cell_type": "code",
   "execution_count": 1,
   "id": "initial_id",
   "metadata": {
    "ExecuteTime": {
     "end_time": "2024-06-30T15:37:30.123461Z",
     "start_time": "2024-06-30T15:37:30.107060Z"
    }
   },
   "outputs": [],
   "source": [
    "from src.SensitivityAnalysis import load_data\n",
    "import matplotlib.pyplot as plt\n",
    "import pandas as pd\n",
    "from src.SugarScape import SugarScape\n",
    "from mesa import batch_run\n",
    "import numpy as np\n",
    "from tqdm import tqdm"
   ]
  },
  {
   "cell_type": "markdown",
   "id": "f87f6ff3db7be888",
   "metadata": {},
   "source": [
    "# Finding Parameters"
   ]
  },
  {
   "cell_type": "code",
   "execution_count": null,
   "id": "928f9b005f7bb020",
   "metadata": {
    "ExecuteTime": {
     "end_time": "2024-06-30T13:20:04.140016Z",
     "start_time": "2024-06-30T13:20:03.886355Z"
    }
   },
   "outputs": [],
   "source": [
    "data = load_data()\n",
    "averaged = []\n",
    "for i in range(len(data) // 10 - 1):\n",
    "    trader_mean = data['Trader Count'].iloc[i*10:(i+1)*10].mean()\n",
    "    gini_mean = data['Gini'].iloc[i*10:(i+1)*10].mean()\n",
    "    \n",
    "    if trader_mean > 0:\n",
    "        averaged.append(1 / gini_mean * trader_mean)\n"
   ]
  },
  {
   "cell_type": "code",
   "execution_count": null,
   "id": "1f69bb1ec6fe861a",
   "metadata": {
    "ExecuteTime": {
     "end_time": "2024-06-30T13:20:04.150258Z",
     "start_time": "2024-06-30T13:20:04.142270Z"
    }
   },
   "outputs": [],
   "source": [
    "# Find where gini maximized \n",
    "worst = dict(data.iloc[np.argmin(averaged)])\n",
    "best = dict(data.iloc[np.argmax(averaged)])\n",
    "\n",
    "worst = {key: float(value) for (key,value) in worst.items()}\n",
    "best = {key: float(value) for (key,value) in best.items()}\n",
    "\n",
    "print(f'Worst case: {worst}')\n",
    "print(f'Best case: {best}')\n",
    "\n",
    "# Find closest to average\n",
    "dist = (averaged - np.mean(averaged))**2\n",
    "idx = np.argmin(dist)\n",
    "\n",
    "typical = dict(data.iloc[idx * 10])\n",
    "typical = {key: float(value) for (key,value) in typical.items()}\n",
    "print(f'Typical: {typical}')\n"
   ]
  },
  {
   "cell_type": "markdown",
   "id": "95714183c3858450",
   "metadata": {},
   "source": [
    "# Run Base Simulations"
   ]
  },
  {
   "cell_type": "code",
   "execution_count": null,
   "id": "a16cbc27c9fe4f93",
   "metadata": {
    "ExecuteTime": {
     "end_time": "2024-06-30T14:24:57.473535Z",
     "start_time": "2024-06-30T14:24:57.465252Z"
    }
   },
   "outputs": [],
   "source": [
    "## USe these map schemes based on your name\n",
    "# Priyank: top-heavy\n",
    "# Amish: uniform\n",
    "# Ilia: split\n",
    "\n",
    "map_scheme = 'split'\n",
    "\n",
    "scenarios = [\n",
    "    {'vision_mean': 4.264199728146195, 'metabolism_mean': 6.751366691663861, 'max_age_mean': 96.55008263885976,\n",
    "     'repopulate_factor': 7.485186895355582, 'cell_regeneration': 1.6743798777461052, 'map_scheme': map_scheme},   # Worst case\n",
    "    \n",
    "    {'vision_mean': 2.571960593573749, 'metabolism_mean': 7.285224918276071, 'max_age_mean': 93.18476642481984,\n",
    "     'repopulate_factor': 5.733334645628929, 'cell_regeneration': 2.95167014375329, 'map_scheme': map_scheme},     # Best case\n",
    "    \n",
    "    {'vision_mean': 1.2129357354715466, 'metabolism_mean': 3.5813456028699875, 'max_age_mean': 96.730439318344,\n",
    "     'repopulate_factor': 12.009924734011292, 'cell_regeneration': 1.5217601098120213, 'map_scheme': map_scheme},  # Average case\n",
    "    \n",
    "    {'vision_mean': 3.5, 'metabolism_mean': 6, 'max_age_mean': 85,\n",
    "     'repopulate_factor': 10, 'cell_regeneration': 3, 'map_scheme': map_scheme},                                   # Balanced case\n",
    "    \n",
    "    {'vision_mean': 1.2129357354715466, 'metabolism_mean': 3.5813456028699875, 'max_age_mean': 100,\n",
    "     'repopulate_factor': 5, 'cell_regeneration': 1.5217601098120213, 'map_scheme': map_scheme},                    # Slow evolving\n",
    "    \n",
    "    {'vision_mean': 5.089661035686731, 'metabolism_mean': 5.488567331805825, 'max_age_mean': 70,\n",
    "     'repopulate_factor': 15, 'cell_regeneration': 3.368525765836239, 'map_scheme': map_scheme},                    # Fast evolving\n",
    "]\n",
    "\n",
    "results = []\n",
    "replicates = 30\n",
    "max_steps = 200"
   ]
  },
  {
   "cell_type": "code",
   "execution_count": null,
   "id": "ddfb6f65c63eae3f",
   "metadata": {
    "ExecuteTime": {
     "end_time": "2024-06-30T14:32:13.568573Z",
     "start_time": "2024-06-30T14:25:09.133080Z"
    }
   },
   "outputs": [],
   "source": [
    "for scenario in scenarios:\n",
    "    batch = batch_run(SugarScape, scenario, number_processes=None,\n",
    "                      iterations=replicates, max_steps=max_steps, display_progress=True, data_collection_period=1)\n",
    "    for i in range(replicates):\n",
    "        scenario[\"Gini\"] = [val['Gini'] for val in batch[(max_steps+1)*i:(max_steps+1)*(i+1)]]\n",
    "        scenario[\"Trader Count\"] = [val['Trader Count'] for val in batch[(max_steps+1)*i:(max_steps+1)*(i+1)]]\n",
    "\n",
    "        results.append(list(scenario.values()))\n",
    "\n",
    "# Convert to df and save\n",
    "names = list(scenario.keys()) \n",
    "df = pd.DataFrame(results, columns=names)\n",
    "df.to_csv(f'Experiments/Base/results_{map_scheme}.csv')"
   ]
  },
  {
   "cell_type": "code",
   "execution_count": null,
   "id": "42396d28ae8703fb",
   "metadata": {
    "ExecuteTime": {
     "end_time": "2024-06-30T14:39:22.840567Z",
     "start_time": "2024-06-30T14:39:19.311096Z"
    }
   },
   "outputs": [],
   "source": [
    "def safe_eval(value):\n",
    "    try:\n",
    "        return eval(value)\n",
    "    except:\n",
    "        return value\n",
    "\n",
    "names = ['Worst', 'Best', 'Typical', 'Balanced', 'Slow evolving', 'Fast evolving']\n",
    "for map_scheme in ['uniform', 'top_heavy', 'split']:\n",
    "    fig, ax = plt.subplots(1, 2, figsize=(12, 5))\n",
    "    df = pd.read_csv(f'Experiments/Base/results_{map_scheme}.csv')\n",
    "    df['Gini'] = df['Gini'].apply(safe_eval)\n",
    "    df['Trader Count'] = df['Trader Count'].apply(safe_eval)\n",
    "    \n",
    "    for i in range(len(scenarios)):\n",
    "        # Get gini and trader count of every scenario\n",
    "        gini = df.iloc[i*replicates:(i+1)*replicates]['Gini']\n",
    "        trader = df.iloc[i*replicates:(i+1)*replicates]['Trader Count']\n",
    "        \n",
    "        # Convert to 2d np arrays\n",
    "        gini = np.vstack(gini)\n",
    "        trader = np.vstack(trader)\n",
    "        \n",
    "        # Get means and ci\n",
    "        gini_mean = np.mean(gini, axis=0)\n",
    "        gini_ci = np.std(gini, ddof=1, axis=0) / replicates * 1.96\n",
    "        trader_mean = np.mean(trader, axis=0)\n",
    "        trader_ci = np.std(trader, ddof=1, axis=0) / replicates * 1.96\n",
    "        \n",
    "        # Plotting\n",
    "        x = np.arange(len(gini_mean))\n",
    "        ax[0].plot(x, gini_mean, label=names[i])\n",
    "        ax[0].fill_between(x, gini_mean + gini_ci, gini_mean - gini_ci, alpha=0.5)\n",
    "        ax[1].plot(x, trader_mean, label=names[i])\n",
    "        ax[1].fill_between(x, trader_mean + trader_ci, trader_mean - trader_ci, alpha=0.5)\n",
    "    \n",
    "    # Set labels, grid and title\n",
    "    ax[1].legend(bbox_to_anchor=(1, 1.05))\n",
    "    ax[0].set_title('Gini')\n",
    "    ax[1].set_title('Trader Count')\n",
    "    for i in range(2):\n",
    "        ax[i].grid()\n",
    "        ax[i].set_xlabel('Timesteps')\n",
    "    ax[0].set_ylabel('Gini Coefficient')\n",
    "    ax[1].set_ylabel('Number of Traders')\n",
    "    \n",
    "    # Save figure\n",
    "    fig.suptitle(f'{map_scheme}')\n",
    "    fig.tight_layout()\n",
    "    fig.savefig(f'Experiments/Base/plot_{map_scheme}.png', dpi=300, bbox_inches='tight')"
   ]
  },
  {
   "cell_type": "markdown",
   "id": "bd308608a3474664",
   "metadata": {},
   "source": [
    "# Running Experiments"
   ]
  },
  {
   "cell_type": "code",
   "execution_count": null,
   "id": "c589f981111c28f1",
   "metadata": {
    "ExecuteTime": {
     "end_time": "2024-06-30T15:37:52.310028Z",
     "start_time": "2024-06-30T15:37:52.299407Z"
    }
   },
   "outputs": [],
   "source": [
    "## Use these map schemes based on your name\n",
    "# Priyank: top-heavy\n",
    "# Amish: uniform\n",
    "# Ilia: split\n",
    "\n",
    "map_scheme = 'uniform'\n",
    "\n",
    "scenarios = [\n",
    "    {'vision_mean': 4.264199728146195, 'metabolism_mean': 6.751366691663861, 'max_age_mean': 96.55008263885976,\n",
    "     'repopulate_factor': 7.485186895355582, 'cell_regeneration': 1.6743798777461052, 'map_scheme': map_scheme},   # Worst case\n",
    "    \n",
    "    {'vision_mean': 2.571960593573749, 'metabolism_mean': 7.285224918276071, 'max_age_mean': 93.18476642481984,\n",
    "     'repopulate_factor': 5.733334645628929, 'cell_regeneration': 2.95167014375329, 'map_scheme': map_scheme},     # Best case\n",
    "    \n",
    "    {'vision_mean': 1.2129357354715466, 'metabolism_mean': 3.5813456028699875, 'max_age_mean': 96.730439318344,\n",
    "     'repopulate_factor': 12.009924734011292, 'cell_regeneration': 1.5217601098120213, 'map_scheme': map_scheme},  # Average case\n",
    "    \n",
    "    {'vision_mean': 3.5, 'metabolism_mean': 6, 'max_age_mean': 85,\n",
    "     'repopulate_factor': 10, 'cell_regeneration': 3, 'map_scheme': map_scheme},                                   # Balanced case\n",
    "    \n",
    "    {'vision_mean': 1.2129357354715466, 'metabolism_mean': 3.5813456028699875, 'max_age_mean': 100,\n",
    "     'repopulate_factor': 5, 'cell_regeneration': 1.5217601098120213, 'map_scheme': map_scheme},                    # Slow evolving\n",
    "    \n",
    "    {'vision_mean': 5.089661035686731, 'metabolism_mean': 5.488567331805825, 'max_age_mean': 70,\n",
    "     'repopulate_factor': 15, 'cell_regeneration': 3.368525765836239, 'map_scheme': map_scheme},                    # Fast evolving\n",
    "]\n",
    "\n",
    "\n",
    "tax_systems = [\n",
    "    (\"progressive\", \"needs\"),\n",
    "    (\"flat\", \"flat\"),\n",
    "    (\"regressive\", \"random\"),\n",
    "    (\"luxury\", \"progressive\"),\n",
    "    (\"progressive\", \"progressive\")\n",
    "]\n",
    "\n",
    "tax_rates = [0.1, 0.25, 0.4]\n",
    "\n",
    "results = []\n",
    "replicates = 30\n",
    "max_steps = 200"
   ]
  },
  {
   "cell_type": "code",
   "execution_count": null,
   "id": "e35124b3329af436",
   "metadata": {
    "ExecuteTime": {
     "end_time": "2024-06-30T15:38:57.120507Z",
     "start_time": "2024-06-30T15:37:52.526622Z"
    }
   },
   "outputs": [],
   "source": [
    "with tqdm(total=len(scenarios), ncols=70) as pbar:\n",
    "    for scenario in scenarios:\n",
    "        for tax_system in tax_systems:\n",
    "            for tax_rate in tax_rates:\n",
    "                scenario_copy = scenario.copy()\n",
    "                # Adding taxsystem and rate into scenario\n",
    "                scenario_copy['tax_scheme'] = tax_system[0]\n",
    "                scenario_copy['distributer_scheme'] = tax_system[1]\n",
    "                scenario_copy['tax_rate'] = tax_rate\n",
    "        \n",
    "                batch = batch_run(SugarScape, scenario_copy, number_processes=None,\n",
    "                                  iterations=replicates, max_steps=max_steps, display_progress=False, data_collection_period=1)\n",
    "                for i in range(replicates):\n",
    "                    scenario_copy[\"Gini\"] = [val['Gini'] for val in batch[(max_steps+1)*i:(max_steps+1)*(i+1)]]\n",
    "                    scenario_copy[\"Trader Count\"] = [val['Trader Count'] for val in batch[(max_steps+1)*i:(max_steps+1)*(i+1)]]\n",
    "    \n",
    "                results.append(list(scenario_copy.values()))\n",
    "    \n",
    "        pbar.update(1)\n",
    "\n",
    "# Convert to df and save\n",
    "names = list(scenario_copy.keys()) \n",
    "df = pd.DataFrame(results, columns=names)\n",
    "df.to_csv(f'Experiments/results_{map_scheme}.csv')"
   ]
  },
  {
   "cell_type": "markdown",
   "id": "8dc4c47f",
   "metadata": {},
   "source": [
    "# Updated Final Experiment"
   ]
  },
  {
   "cell_type": "code",
   "execution_count": 2,
   "id": "9416a59c4428965d",
   "metadata": {},
   "outputs": [
    {
     "name": "stderr",
     "output_type": "stream",
     "text": [
      "100%|██████████████████████████████████| 6/6 [21:16<00:00, 212.77s/it]\n"
     ]
    }
   ],
   "source": [
    "import logging\n",
    "from multiprocessing import Pool, cpu_count\n",
    "# from src.SugarScape import SugarScape, batch_run\n",
    "\n",
    "def setup_logger():\n",
    "    \"\"\"Set up a logger for simulation.\"\"\"\n",
    "    logger = logging.getLogger(\"simulation\")\n",
    "    handler = logging.FileHandler(\"simulation.log\")\n",
    "    formatter = logging.Formatter('%(asctime)s - %(levelname)s - %(message)s')\n",
    "    handler.setFormatter(formatter)\n",
    "    logger.addHandler(handler)\n",
    "    logger.setLevel(logging.INFO)\n",
    "    return logger\n",
    "\n",
    "map_scheme = 'top_heavy'\n",
    "\n",
    "scenarios = [\n",
    "    {'vision_mean': 4.264199728146195, 'metabolism_mean': 6.751366691663861, 'max_age_mean': 96.55008263885976,\n",
    "     'repopulate_factor': 7.485186895355582, 'cell_regeneration': 1.6743798777461052, 'map_scheme': map_scheme},   # Worst case\n",
    "    \n",
    "    {'vision_mean': 2.571960593573749, 'metabolism_mean': 7.285224918276071, 'max_age_mean': 93.18476642481984,\n",
    "     'repopulate_factor': 5.733334645628929, 'cell_regeneration': 2.95167014375329, 'map_scheme': map_scheme},     # Best case\n",
    "    \n",
    "    {'vision_mean': 1.2129357354715466, 'metabolism_mean': 3.5813456028699875, 'max_age_mean': 96.730439318344,\n",
    "     'repopulate_factor': 12.009924734011292, 'cell_regeneration': 1.5217601098120213, 'map_scheme': map_scheme},  # Average case\n",
    "    \n",
    "    {'vision_mean': 3.5, 'metabolism_mean': 6, 'max_age_mean': 85,\n",
    "     'repopulate_factor': 10, 'cell_regeneration': 3, 'map_scheme': map_scheme},                                   # Balanced case\n",
    "    \n",
    "    {'vision_mean': 1.2129357354715466, 'metabolism_mean': 3.5813456028699875, 'max_age_mean': 100,\n",
    "     'repopulate_factor': 5, 'cell_regeneration': 1.5217601098120213, 'map_scheme': map_scheme},                    # Slow evolving\n",
    "    \n",
    "    {'vision_mean': 5.089661035686731, 'metabolism_mean': 5.488567331805825, 'max_age_mean': 70,\n",
    "     'repopulate_factor': 15, 'cell_regeneration': 3.368525765836239, 'map_scheme': map_scheme},                    # Fast evolving\n",
    "]\n",
    "\n",
    "tax_systems = [\n",
    "    (\"progressive\", \"needs\"),\n",
    "    (\"flat\", \"flat\"),\n",
    "    (\"regressive\", \"random\"),\n",
    "    (\"luxury\", \"progressive\"),\n",
    "    (\"progressive\", \"progressive\")\n",
    "]\n",
    "\n",
    "tax_rates = [0.1, 0.25, 0.4]\n",
    "\n",
    "results = []\n",
    "replicates = 10\n",
    "max_steps = 200\n",
    "\n",
    "def run_experiment(scenario):\n",
    "    \"\"\"Run the SugarScape model with given parameters and return results.\"\"\"\n",
    "    logger = setup_logger()\n",
    "    results = []\n",
    "    for tax_system in tax_systems:\n",
    "        for tax_rate in tax_rates:\n",
    "            scenario_copy = scenario.copy()\n",
    "            scenario_copy['tax_scheme'] = tax_system[0]\n",
    "            scenario_copy['distributer_scheme'] = tax_system[1]\n",
    "            scenario_copy['tax_rate'] = tax_rate\n",
    "            \n",
    "            logger.info(f\"Running experiment: {scenario_copy}\")\n",
    "            batch = batch_run(SugarScape, scenario_copy, number_processes=None,\n",
    "                              iterations=replicates, max_steps=max_steps, display_progress=False, data_collection_period=1)\n",
    "            for i in range(replicates):\n",
    "                scenario_result = scenario_copy.copy()\n",
    "                scenario_result[\"Gini\"] = [val['Gini'] for val in batch[(max_steps+1)*i:(max_steps+1)*(i+1)]]\n",
    "                scenario_result[\"Trader Count\"] = [val['Trader Count'] for val in batch[(max_steps+1)*i:(max_steps+1)*(i+1)]]\n",
    "                results.append(list(scenario_result.values()))\n",
    "    return results\n",
    "\n",
    "with tqdm(total=len(scenarios), ncols=70) as pbar:\n",
    "    for scenario in scenarios:\n",
    "        results.extend(run_experiment(scenario))\n",
    "        pbar.update(1)\n",
    "\n",
    "# Convert to df and save\n",
    "names = list(scenario.keys()) + ['tax_scheme', 'distributer_scheme', 'tax_rate', 'Gini', 'Trader Count']\n",
    "df = pd.DataFrame(results, columns=names)\n",
    "df.to_csv(f'Experiments/results_v4_{map_scheme}.csv', index=False)\n"
   ]
  },
  {
   "cell_type": "code",
   "execution_count": null,
   "id": "64cb972d",
   "metadata": {},
   "outputs": [],
   "source": []
  }
 ],
 "metadata": {
  "kernelspec": {
   "display_name": "Python 3 (ipykernel)",
   "language": "python",
   "name": "python3"
  },
  "language_info": {
   "codemirror_mode": {
    "name": "ipython",
    "version": 3
   },
   "file_extension": ".py",
   "mimetype": "text/x-python",
   "name": "python",
   "nbconvert_exporter": "python",
   "pygments_lexer": "ipython3",
   "version": "3.11.7"
  }
 },
 "nbformat": 4,
 "nbformat_minor": 5
}
