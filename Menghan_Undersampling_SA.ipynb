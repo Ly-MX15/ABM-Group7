{
 "cells": [
  {
   "cell_type": "code",
   "execution_count": 6,
   "metadata": {},
   "outputs": [],
   "source": [
    "from SALib.sample import saltelli\n",
    "from SALib.analyze import sobol\n",
    "import pandas as pd\n",
    "import numpy as np\n",
    "import matplotlib.pyplot as plt\n",
    "\n",
    "# 定义变量及其范围\n",
    "problem = {\n",
    "    'num_vars': 3,\n",
    "    'names': ['sugar_metabolism', 'spice_metabolism', 'vision'],\n",
    "    'bounds': [[1, 5], [1, 5], [1, 10]]  # 假设代谢率范围是1到5，视野范围是1到10\n",
    "}"
   ]
  },
  {
   "cell_type": "code",
   "execution_count": 9,
   "metadata": {},
   "outputs": [
    {
     "ename": "ImportError",
     "evalue": "cannot import name 'FixedBatchRunner' from 'mesa.batchrunner' (/opt/anaconda3/lib/python3.8/site-packages/mesa/batchrunner.py)",
     "output_type": "error",
     "traceback": [
      "\u001b[0;31m---------------------------------------------------------------------------\u001b[0m",
      "\u001b[0;31mImportError\u001b[0m                               Traceback (most recent call last)",
      "\u001b[0;32m<ipython-input-9-052402e50f36>\u001b[0m in \u001b[0;36m<module>\u001b[0;34m\u001b[0m\n\u001b[0;32m----> 1\u001b[0;31m \u001b[0;32mfrom\u001b[0m \u001b[0mmesa\u001b[0m\u001b[0;34m.\u001b[0m\u001b[0mbatchrunner\u001b[0m \u001b[0;32mimport\u001b[0m \u001b[0mFixedBatchRunner\u001b[0m  \u001b[0;31m# 使用固定批量运行器\u001b[0m\u001b[0;34m\u001b[0m\u001b[0;34m\u001b[0m\u001b[0m\n\u001b[0m\u001b[1;32m      2\u001b[0m \u001b[0;32mfrom\u001b[0m \u001b[0mSugarScape\u001b[0m \u001b[0;32mimport\u001b[0m \u001b[0mSugarScapeModel\u001b[0m\u001b[0;34m\u001b[0m\u001b[0;34m\u001b[0m\u001b[0m\n\u001b[1;32m      3\u001b[0m \u001b[0;34m\u001b[0m\u001b[0m\n\u001b[1;32m      4\u001b[0m \u001b[0;31m# 设置实验参数\u001b[0m\u001b[0;34m\u001b[0m\u001b[0;34m\u001b[0m\u001b[0;34m\u001b[0m\u001b[0m\n\u001b[1;32m      5\u001b[0m \u001b[0mreplicates\u001b[0m \u001b[0;34m=\u001b[0m \u001b[0;36m10\u001b[0m\u001b[0;34m\u001b[0m\u001b[0;34m\u001b[0m\u001b[0m\n",
      "\u001b[0;31mImportError\u001b[0m: cannot import name 'FixedBatchRunner' from 'mesa.batchrunner' (/opt/anaconda3/lib/python3.8/site-packages/mesa/batchrunner.py)"
     ]
    }
   ],
   "source": [
    "from mesa.batchrunner import FixedBatchRunner  # 使用固定批量运行器\n",
    "from SugarScape import SugarScapeModel\n",
    "\n",
    "# 设置实验参数\n",
    "replicates = 10\n",
    "max_steps = 100\n",
    "distinct_samples = 10\n",
    "\n",
    "# 生成参数样本\n",
    "param_values = saltelli.sample(problem, distinct_samples)\n",
    "\n",
    "# 设置模型输出\n",
    "model_reporters = {\n",
    "    \"Total Population\": lambda m: m.schedule.get_agent_count()\n",
    "}\n",
    "\n",
    "# 初始化BatchRunner\n",
    "batch = FixedBatchRunner(\n",
    "    SugarScapeModel,\n",
    "    max_steps=max_steps,\n",
    "    variable_parameters={name: [] for name in problem['names']},\n",
    "    model_reporters=model_reporters\n",
    ")\n",
    "\n",
    "# 初始化数据存储\n",
    "count = 0\n",
    "data = pd.DataFrame(index=range(replicates * len(param_values)), \n",
    "                    columns=['sugar_metabolism', 'spice_metabolism', 'vision'])\n",
    "data['Run'], data['Total Population'] = None, None\n",
    "\n",
    "# 运行实验并存储结果\n",
    "for i in range(replicates):\n",
    "    for vals in param_values: \n",
    "        vals = list(vals)\n",
    "        # 转换为参数字典\n",
    "        variable_parameters = {name: val for name, val in zip(problem['names'], vals)}\n",
    "\n",
    "        # 运行模型迭代\n",
    "        batch.run_iteration(variable_parameters, tuple(vals), count)\n",
    "        iteration_data = batch.get_model_vars_dataframe().iloc[count]\n",
    "        iteration_data['Run'] = count  # 确保迭代编号正确填充\n",
    "        data.iloc[count, 0:3] = vals\n",
    "        data.iloc[count, 3] = iteration_data['Total Population']\n",
    "        count += 1\n",
    "\n",
    "        clear_output(wait=True)\n",
    "        print(f'{count / (len(param_values) * replicates) * 100:.2f}% done')\n",
    "\n",
    "print(\"All experiments done!\")\n",
    "\n"
   ]
  }
 ],
 "metadata": {
  "kernelspec": {
   "display_name": "base",
   "language": "python",
   "name": "python3"
  },
  "language_info": {
   "codemirror_mode": {
    "name": "ipython",
    "version": 3
   },
   "file_extension": ".py",
   "mimetype": "text/x-python",
   "name": "python",
   "nbconvert_exporter": "python",
   "pygments_lexer": "ipython3",
   "version": "3.8.8"
  }
 },
 "nbformat": 4,
 "nbformat_minor": 2
}
