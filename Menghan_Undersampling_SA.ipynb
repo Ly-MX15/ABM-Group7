{
 "cells": [
  {
   "cell_type": "markdown",
   "metadata": {},
   "source": [
    "# without CPU speeding up"
   ]
  },
  {
   "cell_type": "code",
   "execution_count": 14,
   "metadata": {},
   "outputs": [
    {
     "name": "stderr",
     "output_type": "stream",
     "text": [
      "<ipython-input-14-a72fc5e66564>:46: DeprecationWarning: `salib.sample.saltelli` will be removed in SALib 1.5. Please use `salib.sample.sobol`\n",
      "  param_values = saltelli.sample(problem, distinct_samples)\n",
      "  0%|          | 0/24 [00:00<?, ?it/s]"
     ]
    },
    {
     "name": "stdout",
     "output_type": "stream",
     "text": [
      "total_runs: 24\n",
      "param_list: [{'metabolism_mean': 1, 'vision': 6}, {'metabolism_mean': 5, 'vision': 6}, {'metabolism_mean': 1, 'vision': 8}, {'metabolism_mean': 1, 'vision': 8}, {'metabolism_mean': 5, 'vision': 6}, {'metabolism_mean': 5, 'vision': 8}, {'metabolism_mean': 6, 'vision': 11}, {'metabolism_mean': 9, 'vision': 11}, {'metabolism_mean': 6, 'vision': 3}, {'metabolism_mean': 6, 'vision': 3}, {'metabolism_mean': 9, 'vision': 11}, {'metabolism_mean': 9, 'vision': 3}, {'metabolism_mean': 1, 'vision': 6}, {'metabolism_mean': 5, 'vision': 6}, {'metabolism_mean': 1, 'vision': 8}, {'metabolism_mean': 1, 'vision': 8}, {'metabolism_mean': 5, 'vision': 6}, {'metabolism_mean': 5, 'vision': 8}, {'metabolism_mean': 6, 'vision': 11}, {'metabolism_mean': 9, 'vision': 11}, {'metabolism_mean': 6, 'vision': 3}, {'metabolism_mean': 6, 'vision': 3}, {'metabolism_mean': 9, 'vision': 11}, {'metabolism_mean': 9, 'vision': 3}]\n"
     ]
    },
    {
     "name": "stderr",
     "output_type": "stream",
     "text": [
      "2024-06-22 15:44:27,854 - INFO - Model step 0: metabolism_mean=1, vision=6\n",
      "2024-06-22 15:44:33,099 - INFO - Model step 10: metabolism_mean=1, vision=6\n",
      "2024-06-22 15:44:38,008 - INFO - Finished: metabolism_mean=1, vision=6, total_population=4338, gini_coefficient=0.23580780899443976\n",
      "  4%|▍         | 1/24 [00:11<04:15, 11.11s/it]2024-06-22 15:44:38,244 - INFO - Model step 0: metabolism_mean=5, vision=6\n",
      "2024-06-22 15:44:39,819 - INFO - Model step 10: metabolism_mean=5, vision=6\n",
      "2024-06-22 15:44:40,907 - INFO - Finished: metabolism_mean=5, vision=6, total_population=2723, gini_coefficient=0.3624365214429375\n",
      "  8%|▊         | 2/24 [00:14<02:18,  6.28s/it]2024-06-22 15:44:41,292 - INFO - Model step 0: metabolism_mean=1, vision=8\n",
      "2024-06-22 15:44:48,640 - INFO - Model step 10: metabolism_mean=1, vision=8\n",
      "2024-06-22 15:44:55,756 - INFO - Finished: metabolism_mean=1, vision=8, total_population=4436, gini_coefficient=0.22059159941979645\n",
      " 12%|█▎        | 3/24 [00:28<03:34, 10.19s/it]2024-06-22 15:44:56,367 - INFO - Model step 0: metabolism_mean=1, vision=8\n",
      "2024-06-22 15:45:05,244 - INFO - Model step 10: metabolism_mean=1, vision=8\n",
      "2024-06-22 15:45:13,003 - INFO - Finished: metabolism_mean=1, vision=8, total_population=4415, gini_coefficient=0.23782798761721424\n",
      " 17%|█▋        | 4/24 [00:46<04:19, 12.98s/it]2024-06-22 15:45:13,294 - INFO - Model step 0: metabolism_mean=5, vision=6\n",
      "2024-06-22 15:45:15,030 - INFO - Model step 10: metabolism_mean=5, vision=6\n",
      "2024-06-22 15:45:16,168 - INFO - Finished: metabolism_mean=5, vision=6, total_population=2748, gini_coefficient=0.3667292873730372\n",
      " 21%|██        | 5/24 [00:49<02:59,  9.44s/it]2024-06-22 15:45:16,525 - INFO - Model step 0: metabolism_mean=5, vision=8\n",
      "2024-06-22 15:45:19,000 - INFO - Model step 10: metabolism_mean=5, vision=8\n",
      "2024-06-22 15:45:20,774 - INFO - Finished: metabolism_mean=5, vision=8, total_population=2780, gini_coefficient=0.359799511086629\n",
      " 25%|██▌       | 6/24 [00:53<02:20,  7.80s/it]2024-06-22 15:45:21,837 - INFO - Model step 0: metabolism_mean=6, vision=11\n",
      "2024-06-22 15:45:25,319 - INFO - Model step 10: metabolism_mean=6, vision=11\n",
      "2024-06-22 15:45:27,617 - INFO - Finished: metabolism_mean=6, vision=11, total_population=2702, gini_coefficient=0.359001111764915\n",
      " 29%|██▉       | 7/24 [01:00<02:07,  7.48s/it]2024-06-22 15:45:28,167 - INFO - Model step 0: metabolism_mean=9, vision=11\n",
      "2024-06-22 15:45:30,503 - INFO - Model step 10: metabolism_mean=9, vision=11\n",
      "2024-06-22 15:45:31,037 - INFO - Finished: metabolism_mean=9, vision=11, total_population=2544, gini_coefficient=0.3369891300850545\n",
      " 33%|███▎      | 8/24 [01:04<01:39,  6.19s/it]2024-06-22 15:45:31,140 - INFO - Model step 0: metabolism_mean=6, vision=3\n",
      "2024-06-22 15:45:31,619 - INFO - Model step 10: metabolism_mean=6, vision=3\n",
      "2024-06-22 15:45:31,864 - INFO - Finished: metabolism_mean=6, vision=3, total_population=2606, gini_coefficient=0.34630350405346877\n",
      " 38%|███▊      | 9/24 [01:04<01:07,  4.51s/it]2024-06-22 15:45:31,969 - INFO - Model step 0: metabolism_mean=6, vision=3\n",
      "2024-06-22 15:45:32,435 - INFO - Model step 10: metabolism_mean=6, vision=3\n",
      "2024-06-22 15:45:32,684 - INFO - Finished: metabolism_mean=6, vision=3, total_population=2598, gini_coefficient=0.35351046666474684\n",
      " 42%|████▏     | 10/24 [01:05<00:47,  3.37s/it]2024-06-22 15:45:33,323 - INFO - Model step 0: metabolism_mean=9, vision=11\n",
      "2024-06-22 15:45:35,129 - INFO - Model step 10: metabolism_mean=9, vision=11\n",
      "2024-06-22 15:45:35,675 - INFO - Finished: metabolism_mean=9, vision=11, total_population=2543, gini_coefficient=0.3153964633695685\n",
      " 46%|████▌     | 11/24 [01:08<00:42,  3.26s/it]2024-06-22 15:45:35,777 - INFO - Model step 0: metabolism_mean=9, vision=3\n",
      "2024-06-22 15:45:36,034 - INFO - Model step 10: metabolism_mean=9, vision=3\n",
      "2024-06-22 15:45:36,137 - INFO - Finished: metabolism_mean=9, vision=3, total_population=2519, gini_coefficient=0.28278124674146055\n",
      " 50%|█████     | 12/24 [01:09<00:28,  2.41s/it]2024-06-22 15:45:36,361 - INFO - Model step 0: metabolism_mean=1, vision=6\n",
      "2024-06-22 15:45:41,283 - INFO - Model step 10: metabolism_mean=1, vision=6\n",
      "2024-06-22 15:45:46,206 - INFO - Finished: metabolism_mean=1, vision=6, total_population=4416, gini_coefficient=0.21846951948017068\n",
      " 54%|█████▍    | 13/24 [01:19<00:52,  4.73s/it]2024-06-22 15:45:46,436 - INFO - Model step 0: metabolism_mean=5, vision=6\n",
      "2024-06-22 15:45:48,017 - INFO - Model step 10: metabolism_mean=5, vision=6\n",
      "2024-06-22 15:45:49,088 - INFO - Finished: metabolism_mean=5, vision=6, total_population=2740, gini_coefficient=0.3845128661916568\n",
      " 58%|█████▊    | 14/24 [01:22<00:41,  4.17s/it]2024-06-22 15:45:49,559 - INFO - Model step 0: metabolism_mean=1, vision=8\n",
      "2024-06-22 15:45:57,168 - INFO - Model step 10: metabolism_mean=1, vision=8\n",
      "2024-06-22 15:46:04,581 - INFO - Finished: metabolism_mean=1, vision=8, total_population=4461, gini_coefficient=0.219243659033586\n",
      " 62%|██████▎   | 15/24 [01:37<01:08,  7.58s/it]2024-06-22 15:46:05,001 - INFO - Model step 0: metabolism_mean=1, vision=8\n",
      "2024-06-22 15:46:13,676 - INFO - Model step 10: metabolism_mean=1, vision=8\n",
      "2024-06-22 15:46:21,240 - INFO - Finished: metabolism_mean=1, vision=8, total_population=4532, gini_coefficient=0.22233443686464227\n",
      " 67%|██████▋   | 16/24 [01:54<01:22, 10.32s/it]2024-06-22 15:46:21,520 - INFO - Model step 0: metabolism_mean=5, vision=6\n",
      "2024-06-22 15:46:23,157 - INFO - Model step 10: metabolism_mean=5, vision=6\n",
      "2024-06-22 15:46:24,503 - INFO - Finished: metabolism_mean=5, vision=6, total_population=2754, gini_coefficient=0.360942112374824\n",
      " 71%|███████   | 17/24 [01:57<00:57,  8.19s/it]2024-06-22 15:46:25,204 - INFO - Model step 0: metabolism_mean=5, vision=8\n",
      "2024-06-22 15:46:27,549 - INFO - Model step 10: metabolism_mean=5, vision=8\n",
      "2024-06-22 15:46:29,512 - INFO - Finished: metabolism_mean=5, vision=8, total_population=2808, gini_coefficient=0.3315108020247042\n",
      " 75%|███████▌  | 18/24 [02:02<00:43,  7.24s/it]2024-06-22 15:46:30,094 - INFO - Model step 0: metabolism_mean=6, vision=11\n",
      "2024-06-22 15:46:33,304 - INFO - Model step 10: metabolism_mean=6, vision=11\n",
      "2024-06-22 15:46:35,315 - INFO - Finished: metabolism_mean=6, vision=11, total_population=2695, gini_coefficient=0.3401323746771754\n",
      " 79%|███████▉  | 19/24 [02:08<00:34,  6.81s/it]2024-06-22 15:46:35,873 - INFO - Model step 0: metabolism_mean=9, vision=11\n",
      "2024-06-22 15:46:37,883 - INFO - Model step 10: metabolism_mean=9, vision=11\n",
      "2024-06-22 15:46:38,471 - INFO - Finished: metabolism_mean=9, vision=11, total_population=2542, gini_coefficient=0.3076698947797445\n",
      " 83%|████████▎ | 20/24 [02:11<00:22,  5.71s/it]2024-06-22 15:46:38,577 - INFO - Model step 0: metabolism_mean=6, vision=3\n",
      "2024-06-22 15:46:39,063 - INFO - Model step 10: metabolism_mean=6, vision=3\n",
      "2024-06-22 15:46:39,325 - INFO - Finished: metabolism_mean=6, vision=3, total_population=2618, gini_coefficient=0.40227292367687717\n",
      " 88%|████████▊ | 21/24 [02:12<00:12,  4.25s/it]2024-06-22 15:46:39,516 - INFO - Model step 0: metabolism_mean=6, vision=3\n",
      "2024-06-22 15:46:40,000 - INFO - Model step 10: metabolism_mean=6, vision=3\n",
      "2024-06-22 15:46:40,237 - INFO - Finished: metabolism_mean=6, vision=3, total_population=2599, gini_coefficient=0.36434701431404615\n",
      " 92%|█████████▏| 22/24 [02:13<00:06,  3.25s/it]2024-06-22 15:46:40,750 - INFO - Model step 0: metabolism_mean=9, vision=11\n",
      "2024-06-22 15:46:42,654 - INFO - Model step 10: metabolism_mean=9, vision=11\n",
      "2024-06-22 15:46:43,215 - INFO - Finished: metabolism_mean=9, vision=11, total_population=2545, gini_coefficient=0.30508181033506165\n",
      " 96%|█████████▌| 23/24 [02:16<00:03,  3.17s/it]2024-06-22 15:46:43,319 - INFO - Model step 0: metabolism_mean=9, vision=3\n",
      "2024-06-22 15:46:43,611 - INFO - Model step 10: metabolism_mean=9, vision=3\n",
      "2024-06-22 15:46:43,719 - INFO - Finished: metabolism_mean=9, vision=3, total_population=2520, gini_coefficient=0.2997585581745248\n",
      "100%|██████████| 24/24 [02:16<00:00,  5.70s/it]"
     ]
    },
    {
     "name": "stdout",
     "output_type": "stream",
     "text": [
      "All experiments done!\n"
     ]
    },
    {
     "name": "stderr",
     "output_type": "stream",
     "text": [
      "\n"
     ]
    }
   ],
   "source": [
    "import logging\n",
    "from SALib.sample import saltelli\n",
    "from SALib.analyze import sobol\n",
    "import pandas as pd\n",
    "import numpy as np\n",
    "from tqdm import tqdm\n",
    "from src.SugarScape import SugarScape\n",
    "from src.Agents.Cell import Cell\n",
    "from src.Agents.Trader import Trader\n",
    "\n",
    "def setup_logger():\n",
    "    \"\"\"Set up the logger for the simulation.\"\"\"\n",
    "    logger = logging.getLogger(\"simulation\")\n",
    "    handler = logging.FileHandler(\"simulation.log\")\n",
    "    formatter = logging.Formatter('%(asctime)s - %(levelname)s - %(message)s')\n",
    "    handler.setFormatter(formatter)\n",
    "    logger.addHandler(handler)\n",
    "    logger.setLevel(logging.INFO)\n",
    "    return logger\n",
    "\n",
    "def run_model(variable_parameters):\n",
    "    \"\"\"Run the SugarScape model with the given parameters and log the process.\"\"\"\n",
    "    logger = setup_logger()\n",
    "    model = SugarScape(metabolism_mean=variable_parameters['metabolism_mean'], \n",
    "                       vision_mean=variable_parameters['vision'])\n",
    "    for step in range(max_steps):\n",
    "        model.step()\n",
    "        if step % 10 == 0:  # Output every 10 steps\n",
    "            logger.info(f\"Model step {step}: metabolism_mean={variable_parameters['metabolism_mean']}, vision={variable_parameters['vision']}\")\n",
    "    total_population = model.schedule.get_agent_count()\n",
    "    gini_coefficient = model.datacollector.get_model_vars_dataframe()['Gini'].values[-1]\n",
    "    logger.info(f\"Finished: metabolism_mean={variable_parameters['metabolism_mean']}, vision={variable_parameters['vision']}, total_population={total_population}, gini_coefficient={gini_coefficient}\")\n",
    "    return variable_parameters['metabolism_mean'], variable_parameters['vision'], total_population, gini_coefficient\n",
    "\n",
    "# Define the variables and their ranges\n",
    "problem = {\n",
    "    'num_vars': 2,\n",
    "    'names': ['metabolism_mean', 'vision'],\n",
    "    'bounds': [[1, 10], [2, 12]]\n",
    "}\n",
    "\n",
    "# Set the experiment parameters\n",
    "replicates = 2  # Simplified for debugging\n",
    "max_steps = 20  # Increased number of steps\n",
    "distinct_samples = 2  # Set as 2^n\n",
    "\n",
    "# Generate parameter samples\n",
    "param_values = saltelli.sample(problem, distinct_samples)\n",
    "total_runs = replicates * len(param_values)\n",
    "print('total_runs:', total_runs)\n",
    "\n",
    "# Create a list of parameter sets\n",
    "param_list = []\n",
    "for i in range(replicates):\n",
    "    for vals in param_values:\n",
    "        # Convert the parameter sample values to integers\n",
    "        variable_parameters = {name: int(val) for name, val in zip(problem['names'], vals)}\n",
    "        param_list.append(variable_parameters)\n",
    "print('param_list:', param_list)\n",
    "\n",
    "# Initialize data storage\n",
    "data = pd.DataFrame(index=range(total_runs), \n",
    "                    columns=['metabolism_mean', 'vision', 'Total Population', 'Gini Coefficient'])\n",
    "\n",
    "# Run the model sequentially\n",
    "if __name__ == \"__main__\":\n",
    "    results = []\n",
    "    for params in tqdm(param_list):\n",
    "        results.append(run_model(params))\n",
    "\n",
    "    # Store the results\n",
    "    for count, result in enumerate(results):\n",
    "        data.iloc[count, :] = result\n",
    "\n",
    "    print(\"All experiments done!\")\n",
    "\n",
    "    # Save results to a CSV file\n",
    "    data.to_csv('simulation_results.csv', index=False)\n",
    "\n"
   ]
  },
  {
   "cell_type": "markdown",
   "metadata": {},
   "source": [
    "# with CPU speeding up\n",
    "but not functioning well i think cuz the printing is stuck\n",
    "i dont know why its stuck"
   ]
  },
  {
   "cell_type": "code",
   "execution_count": null,
   "metadata": {},
   "outputs": [],
   "source": [
    "import logging\n",
    "from SALib.sample import saltelli\n",
    "from SALib.analyze import sobol\n",
    "import pandas as pd\n",
    "import numpy as np\n",
    "from tqdm import tqdm\n",
    "from src.SugarScape import SugarScape\n",
    "from src.Agents.Cell import Cell\n",
    "from src.Agents.Trader import Trader\n",
    "from multiprocessing import Pool, cpu_count\n",
    "import os\n",
    "\n",
    "def setup_logger():\n",
    "    \"\"\"Set up a logger for each worker process.\"\"\"\n",
    "    logger = logging.getLogger(f\"worker_{os.getpid()}\")\n",
    "    handler = logging.FileHandler(f\"worker_{os.getpid()}.log\")\n",
    "    formatter = logging.Formatter('%(asctime)s - %(levelname)s - %(message)s')\n",
    "    handler.setFormatter(formatter)\n",
    "    logger.addHandler(handler)\n",
    "    logger.setLevel(logging.INFO)\n",
    "    return logger\n",
    "\n",
    "def run_model(variable_parameters):\n",
    "    \"\"\"Run the SugarScape model with given parameters and log the process.\"\"\"\n",
    "    logger = setup_logger()\n",
    "    model = SugarScape(metabolism_mean=variable_parameters['metabolism_mean'], \n",
    "                       vision_mean=variable_parameters['vision'])\n",
    "    for step in range(max_steps):\n",
    "        model.step()\n",
    "        if step % 10 == 0:  # Log every 10 steps\n",
    "            logger.info(f\"Model step {step}: metabolism_mean={variable_parameters['metabolism_mean']}, vision={variable_parameters['vision']}\")\n",
    "    total_population = model.schedule.get_agent_count()\n",
    "    gini_coefficient = model.datacollector.get_model_vars_dataframe()['Gini'].values[-1]\n",
    "    logger.info(f\"Finished: metabolism_mean={variable_parameters['metabolism_mean']}, vision={variable_parameters['vision']}, total_population={total_population}, gini_coefficient={gini_coefficient}\")\n",
    "    return variable_parameters['metabolism_mean'], variable_parameters['vision'], total_population, gini_coefficient\n",
    "\n",
    "# Define the problem and its variable ranges\n",
    "problem = {\n",
    "    'num_vars': 2,\n",
    "    'names': ['metabolism_mean', 'vision'],\n",
    "    'bounds': [[1, 10], [2, 12]]\n",
    "}\n",
    "\n",
    "# Set experiment parameters\n",
    "replicates = 2  # Number of replicates for each parameter set\n",
    "max_steps = 20  # Number of steps in the model\n",
    "distinct_samples = 2  # Number of distinct samples, set as a power of 2\n",
    "\n",
    "# Generate parameter samples\n",
    "param_values = saltelli.sample(problem, distinct_samples)\n",
    "total_runs = replicates * len(param_values)\n",
    "print('total_runs:', total_runs)\n",
    "\n",
    "# Create a list of parameter sets\n",
    "param_list = []\n",
    "for i in range(replicates):\n",
    "    for vals in param_values:\n",
    "        # Convert parameter sample values to integers\n",
    "        variable_parameters = {name: int(val) for name, val in zip(problem['names'], vals)}\n",
    "        param_list.append(variable_parameters)\n",
    "print('param_list:', param_list)\n",
    "\n",
    "# Initialize data storage\n",
    "data = pd.DataFrame(index=range(total_runs), \n",
    "                    columns=['metabolism_mean', 'vision', 'Total Population', 'Gini Coefficient'])\n",
    "\n",
    "# Run the model in parallel\n",
    "if __name__ == \"__main__\":\n",
    "    with Pool(cpu_count()) as pool:\n",
    "        results = list(tqdm(pool.imap(run_model, param_list), total=total_runs))\n",
    "\n",
    "    # Store the results\n",
    "    for count, result in enumerate(results):\n",
    "        data.iloc[count, :] = result\n",
    "\n",
    "    print(\"All experiments done!\")\n",
    "\n",
    "    # Save results to a CSV file\n",
    "    data.to_csv('simulation_results.csv', index=False)\n"
   ]
  },
  {
   "cell_type": "markdown",
   "metadata": {},
   "source": [
    "# Plotting"
   ]
  },
  {
   "cell_type": "code",
   "execution_count": 17,
   "metadata": {},
   "outputs": [
    {
     "name": "stdout",
     "output_type": "stream",
     "text": [
      "                       ST   ST_conf\n",
      "metabolism_mean  1.228635  0.636026\n",
      "vision           0.006019  0.234034\n",
      "                       S1   S1_conf\n",
      "metabolism_mean  0.518833  4.866178\n",
      "vision           0.025026  2.951519\n",
      "                                 S2   S2_conf\n",
      "(metabolism_mean, vision)  1.497835  8.155634\n",
      "                       ST   ST_conf\n",
      "metabolism_mean  2.188020  1.497316\n",
      "vision           0.206222  0.690893\n",
      "                       S1   S1_conf\n",
      "metabolism_mean  0.957911  0.504092\n",
      "vision          -0.113240  0.293428\n",
      "                                 S2   S2_conf\n",
      "(metabolism_mean, vision)  1.922481  1.559674\n"
     ]
    },
    {
     "data": {
      "image/png": "[encoded data removed]",
      "text/plain": [
       "<Figure size 432x288 with 1 Axes>"
      ]
     },
     "metadata": {
      "needs_background": "light"
     },
     "output_type": "display_data"
    },
    {
     "data": {
      "image/png": "[encoded data removed]",
      "text/plain": [
       "<Figure size 432x288 with 1 Axes>"
      ]
     },
     "metadata": {
      "needs_background": "light"
     },
     "output_type": "display_data"
    },
    {
     "data": {
      "image/png": "[encoded data removed]",
      "text/plain": [
       "<Figure size 432x288 with 1 Axes>"
      ]
     },
     "metadata": {
      "needs_background": "light"
     },
     "output_type": "display_data"
    },
    {
     "data": {
      "image/png": "[encoded data removed]",
      "text/plain": [
       "<Figure size 432x288 with 1 Axes>"
      ]
     },
     "metadata": {
      "needs_background": "light"
     },
     "output_type": "display_data"
    },
    {
     "data": {
      "image/png": "[encoded data removed]",
      "text/plain": [
       "<Figure size 432x288 with 1 Axes>"
      ]
     },
     "metadata": {
      "needs_background": "light"
     },
     "output_type": "display_data"
    },
    {
     "data": {
      "image/png": "[encoded data removed]",
      "text/plain": [
       "<Figure size 432x288 with 1 Axes>"
      ]
     },
     "metadata": {
      "needs_background": "light"
     },
     "output_type": "display_data"
    }
   ],
   "source": [
    "import pandas as pd\n",
    "import matplotlib.pyplot as plt\n",
    "from SALib.analyze import sobol\n",
    "from itertools import combinations\n",
    "import numpy as np\n",
    "\n",
    "# Read experiment results\n",
    "data = pd.read_csv('simulation_results.csv')\n",
    "\n",
    "# Define variables and their ranges\n",
    "problem = {\n",
    "    'num_vars': 2,\n",
    "    'names': ['metabolism_mean', 'vision'],\n",
    "    'bounds': [[1, 10], [2, 12]]\n",
    "}\n",
    "\n",
    "# Perform Sobol sensitivity analysis\n",
    "Si_population = sobol.analyze(problem, data['Total Population'].values, print_to_console=True)\n",
    "Si_gini = sobol.analyze(problem, data['Gini Coefficient'].values, print_to_console=True)\n",
    "\n",
    "# Visualization function for sensitivity indices\n",
    "def plot_index(s, params, i, title=''):\n",
    "    if i == '2':\n",
    "        p = len(params)\n",
    "        params = list(combinations(params, 2))\n",
    "        indices = s['S' + i].reshape((p ** 2))\n",
    "        # Filter indices to exclude NaN values\n",
    "        indices = indices[~np.isnan(indices)]\n",
    "        errors = s['S' + i + '_conf'].reshape((p ** 2))\n",
    "        # Filter errors to exclude NaN values\n",
    "        errors = errors[~np.isnan(errors)]\n",
    "    else:\n",
    "        indices = s['S' + i]\n",
    "        errors = s['S' + i + '_conf']\n",
    "        plt.figure()\n",
    "\n",
    "    l = len(indices)\n",
    "    plt.title(title)\n",
    "    plt.ylim([-0.2, len(indices) - 1 + 0.2])\n",
    "    plt.yticks(range(l), params)\n",
    "    plt.errorbar(indices, range(l), xerr=errors, linestyle='None', marker='o')\n",
    "    plt.axvline(0, c='k')\n",
    "\n",
    "# Plot sensitivity indices\n",
    "for Si, output_name in [(Si_population, \"Total Population\"), (Si_gini, \"Gini Coefficient\")]:\n",
    "    for i in ['1', '2', 'T']:\n",
    "        plot_index(Si, problem['names'], i, f'{output_name} - {i}-order sensitivity')\n",
    "        plt.show()\n",
    "\n"
   ]
  }
 ],
 "metadata": {
  "kernelspec": {
   "display_name": "base",
   "language": "python",
   "name": "python3"
  },
  "language_info": {
   "codemirror_mode": {
    "name": "ipython",
    "version": 3
   },
   "file_extension": ".py",
   "mimetype": "text/x-python",
   "name": "python",
   "nbconvert_exporter": "python",
   "pygments_lexer": "ipython3",
   "version": "3.8.8"
  }
 },
 "nbformat": 4,
 "nbformat_minor": 2
}
