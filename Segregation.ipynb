{
 "cells": [
  {
   "cell_type": "code",
   "id": "initial_id",
   "metadata": {
    "collapsed": true,
    "ExecuteTime": {
     "end_time": "2024-07-07T19:15:48.853721Z",
     "start_time": "2024-07-07T19:15:48.845502Z"
    }
   },
   "source": [
    "from importlib import reload\n",
    "import src.Experiments.Segregation\n",
    "reload(src.Experiments.Segregation)\n",
    "\n",
    "from src.Experiments.Segregation import *\n",
    "from src.Experiments.TaxEffect import load_scenarios, load_results\n",
    "\n",
    "# Setup all folders\n",
    "import os\n",
    "\n",
    "folder = 'Segregation'\n",
    "# Create Segregation Folder\n",
    "if not os.path.exists(folder):\n",
    "    os.mkdir(folder)\n",
    "\n",
    "# Check if folder exists for saving base results\n",
    "folder = f'{folder}/Base'\n",
    "if not os.path.exists(folder):\n",
    "    os.mkdir(folder)"
   ],
   "outputs": [],
   "execution_count": 7
  },
  {
   "metadata": {},
   "cell_type": "markdown",
   "source": "# Running baseline simulations",
   "id": "999fa27da857d311"
  },
  {
   "metadata": {},
   "cell_type": "code",
   "source": [
    "# Load scenarios\n",
    "scenarios = load_scenarios(\"scenarios.csv\")\n",
    "\n",
    "# Set replicates and steps\n",
    "replicates = 30\n",
    "steps = 200\n",
    "\n",
    "# Run simulations\n",
    "results = run_baseline(scenarios, replicates, steps)\n",
    "\n",
    "# Save results\n",
    "results.to_csv('Segregation/Base/results.csv')"
   ],
   "id": "35995584f978d069",
   "outputs": [],
   "execution_count": null
  },
  {
   "metadata": {},
   "cell_type": "markdown",
   "source": "# Running tax simulations",
   "id": "52dc2c84ee073370"
  },
  {
   "metadata": {},
   "cell_type": "code",
   "source": [
    "# Load scenarios\n",
    "scenarios = load_scenarios(\"scenarios.csv\")\n",
    "\n",
    "# Create tax systems\n",
    "tax_systems = [\n",
    "    (\"progressive\", \"needs\"),\n",
    "    (\"flat\", \"flat\"),\n",
    "    (\"regressive\", \"random\"),\n",
    "    (\"luxury\", \"progressive\"),\n",
    "    (\"progressive\", \"progressive\")\n",
    "]\n",
    "\n",
    "# Define tax rates\n",
    "tax_rates = [0.1, 0.25, 0.4]\n",
    "\n",
    "# Set replicates and steps\n",
    "replicates = 30\n",
    "steps = 200\n",
    "\n",
    "# Run simulations\n",
    "results = run_experiments(scenarios, tax_systems, tax_rates, replicates, steps)\n",
    "\n",
    "# Save results\n",
    "results.to_csv('Segregation/results.csv')"
   ],
   "id": "d0784dc1d0a96950",
   "outputs": [],
   "execution_count": null
  },
  {
   "metadata": {},
   "cell_type": "markdown",
   "source": "# Creating boxplots",
   "id": "413100b8e6e5e68a"
  },
  {
   "metadata": {},
   "cell_type": "code",
   "outputs": [],
   "execution_count": null,
   "source": [
    "# Load scenarios\n",
    "scenarios = load_scenarios(\"scenarios.csv\")\n",
    "\n",
    "# Load results\n",
    "results = load_results('Segregation/results.csv', scenarios)\n",
    "base_results = load_results('Segregation/Base/results.csv', scenarios)\n",
    "\n",
    "# Loop through scenarios\n",
    "for scenario in scenarios:\n",
    "    # Create boxplot\n",
    "    fig, axs = boxplots(results[scenario], base_results[scenario], 20)\n",
    "\n",
    "   # Add title\n",
    "    fig.suptitle(scenario)\n",
    "    \n",
    "    # Apply tight layout and save\n",
    "    fig.tight_layout()\n",
    "    fig.savefig(f'Segregation/{scenario}.png', dpi=300, bbox_inches='tight')"
   ],
   "id": "a2ed23596fcae118"
  }
 ],
 "metadata": {
  "kernelspec": {
   "display_name": "Python 3",
   "language": "python",
   "name": "python3"
  },
  "language_info": {
   "codemirror_mode": {
    "name": "ipython",
    "version": 2
   },
   "file_extension": ".py",
   "mimetype": "text/x-python",
   "name": "python",
   "nbconvert_exporter": "python",
   "pygments_lexer": "ipython2",
   "version": "2.7.6"
  }
 },
 "nbformat": 4,
 "nbformat_minor": 5
}
