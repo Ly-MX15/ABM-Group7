{
 "cells": [
  {
   "cell_type": "code",
   "execution_count": 1,
   "id": "4d43e59b",
   "metadata": {},
   "outputs": [
    {
     "name": "stderr",
     "output_type": "stream",
     "text": [
      "d:\\Anaconda\\lib\\site-packages\\pandas\\core\\computation\\expressions.py:21: UserWarning: Pandas requires version '2.8.4' or newer of 'numexpr' (version '2.8.3' currently installed).\n",
      "  from pandas.core.computation.check import NUMEXPR_INSTALLED\n",
      "d:\\Anaconda\\lib\\site-packages\\pandas\\core\\arrays\\masked.py:60: UserWarning: Pandas requires version '1.3.6' or newer of 'bottleneck' (version '1.3.5' currently installed).\n",
      "  from pandas.core import (\n",
      "100%|█████████████████████████████████████████████████████████| 307/307 [13:12:02<00:00, 154.80s/it]\n"
     ]
    }
   ],
   "source": [
    "from src.SensitivityAnalysis import *\n",
    "\n",
    "ranges = {\n",
    "    \"vision_mean\": [1, 6],\n",
    "    \"metabolism_mean\": [1, 6],\n",
    "    \"max_age_mean\": [70, 100],\n",
    "    \"repopulate_factor\": [5, 15],\n",
    "    \"cell_regeneration\": [1, 5],\n",
    "}\n",
    "\n",
    "problem = {\n",
    "    \"num_vars\": len(ranges),\n",
    "    \"names\": list(ranges.keys()),\n",
    "    \"bounds\": list(ranges.values())\n",
    "}\n",
    "\n",
    "## Only change split if all files within this split have been run\n",
    "split = 1\n",
    "\n",
    "## Set the file_num based on your name\n",
    "# amish = 1\n",
    "# priyank = 2\n",
    "# menghan = 3\n",
    "# yuan = 4\n",
    "# ilia = 5\n",
    "file_num = 4\n",
    "\n",
    "# Run model\n",
    "file = f\"SA/split_{split}/samples_{file_num}.csv\"\n",
    "run_model(file, replicates=10, max_steps=200)"
   ]
  },
  {
   "cell_type": "code",
   "execution_count": null,
   "id": "b56ce8c1",
   "metadata": {},
   "outputs": [],
   "source": []
  }
 ],
 "metadata": {
  "kernelspec": {
   "display_name": "Python 3 (ipykernel)",
   "language": "python",
   "name": "python3"
  },
  "language_info": {
   "codemirror_mode": {
    "name": "ipython",
    "version": 3
   },
   "file_extension": ".py",
   "mimetype": "text/x-python",
   "name": "python",
   "nbconvert_exporter": "python",
   "pygments_lexer": "ipython3",
   "version": "3.9.13"
  }
 },
 "nbformat": 4,
 "nbformat_minor": 5
}
